{
  "cells": [
    {
      "cell_type": "markdown",
      "metadata": {
        "id": "worst-charlotte"
      },
      "source": [
        "## Import all the required libraries"
      ]
    },
    {
      "cell_type": "code",
      "execution_count": null,
      "metadata": {
        "execution": {
          "iopub.execute_input": "2024-04-21T10:17:29.710615Z",
          "iopub.status.busy": "2024-04-21T10:17:29.710178Z",
          "iopub.status.idle": "2024-04-21T10:17:32.89543Z",
          "shell.execute_reply": "2024-04-21T10:17:32.894635Z",
          "shell.execute_reply.started": "2024-04-21T10:17:29.710524Z"
        },
        "id": "A9VsJVnuaACm"
      },
      "outputs": [],
      "source": [
        "import pandas as pd\n",
        "import re\n",
        "import matplotlib.pyplot as plt\n",
        "import tensorflow as tf\n",
        "from sklearn.model_selection import train_test_split\n",
        "from tensorflow.python.client import device_lib\n",
        "tf.test.gpu_device_name()\n",
        "\n",
        "import nltk\n",
        "from nltk.corpus import stopwords\n",
        "from nltk import *\n",
        "import numpy as np\n",
        "from sklearn.preprocessing import LabelEncoder\n",
        "from tensorflow.keras.preprocessing.text import Tokenizer\n",
        "import tensorflow as tf\n",
        "import sys, os, re, csv, codecs, numpy as np, pandas as pd\n",
        "from tensorflow.keras.layers import Dense, Input, LSTM, Embedding, Dropout, Activation\n",
        "from tensorflow.keras.layers import Bidirectional, GlobalMaxPool1D, Conv1D, SimpleRNN\n",
        "from tensorflow.keras.models import Model\n",
        "from tensorflow.keras.models import Sequential\n",
        "from tensorflow.keras import initializers, regularizers, constraints, optimizers, layers\n",
        "from tensorflow.keras.layers import Dense, Input, Input, Flatten, Dropout, BatchNormalization\n",
        "from tensorflow.keras.layers import Conv1D, MaxPooling1D, Embedding\n",
        "from tensorflow.keras.preprocessing.sequence import pad_sequences\n",
        "import sklearn\n",
        "from sklearn.metrics import precision_recall_fscore_support as score\n",
        "import seaborn as sns\n",
        "from sklearn.metrics import confusion_matrix\n",
        "from tensorflow.python.keras.utils import np_utils\n",
        "from tensorflow.keras.utils import to_categorical\n",
        "\n",
        "import warnings\n",
        "warnings.filterwarnings('ignore')"
      ]
    },
    {
      "cell_type": "markdown",
      "metadata": {
        "id": "JJDhaeHCVBmS"
      },
      "source": [
        "## Constants Definitions"
      ]
    },
    {
      "cell_type": "code",
      "execution_count": null,
      "metadata": {
        "execution": {
          "iopub.execute_input": "2024-04-21T10:17:32.897571Z",
          "iopub.status.busy": "2024-04-21T10:17:32.897306Z",
          "iopub.status.idle": "2024-04-21T10:17:32.901414Z",
          "shell.execute_reply": "2024-04-21T10:17:32.900578Z",
          "shell.execute_reply.started": "2024-04-21T10:17:32.897545Z"
        },
        "id": "pAkq-fOBVBmS"
      },
      "outputs": [],
      "source": [
        "embedding_dim = 32\n",
        "max_sequence_length = 170\n",
        "max_words = 2500\n",
        "samples = 20000"
      ]
    },
    {
      "cell_type": "markdown",
      "metadata": {
        "id": "dominant-bible"
      },
      "source": [
        "# 1. Import the customer complaints dataset"
      ]
    },
    {
      "cell_type": "code",
      "execution_count": null,
      "metadata": {
        "execution": {
          "iopub.execute_input": "2024-04-21T10:17:32.903502Z",
          "iopub.status.busy": "2024-04-21T10:17:32.903123Z",
          "iopub.status.idle": "2024-04-21T10:17:33.950329Z",
          "shell.execute_reply": "2024-04-21T10:17:33.949431Z",
          "shell.execute_reply.started": "2024-04-21T10:17:32.903465Z"
        },
        "id": "_t2QAwXNRj6q",
        "outputId": "e0c276d7-ad1e-4e90-e859-9ee4d0dc30d1",
        "colab": {
          "base_uri": "https://localhost:8080/",
          "height": 693
        }
      },
      "outputs": [
        {
          "output_type": "stream",
          "name": "stdout",
          "text": [
            "Drive already mounted at /content/gdrive; to attempt to forcibly remount, call drive.mount(\"/content/gdrive\", force_remount=True).\n"
          ]
        },
        {
          "output_type": "execute_result",
          "data": {
            "text/plain": [
              "    Unnamed: 0              product  \\\n",
              "0            0          credit_card   \n",
              "1            1          credit_card   \n",
              "2            2       retail_banking   \n",
              "3            3     credit_reporting   \n",
              "4            4     credit_reporting   \n",
              "5            5     credit_reporting   \n",
              "6            6     credit_reporting   \n",
              "7            7     credit_reporting   \n",
              "8            8     credit_reporting   \n",
              "9            9     credit_reporting   \n",
              "10          10  mortgages_and_loans   \n",
              "11          11          credit_card   \n",
              "12          12          credit_card   \n",
              "13          13     credit_reporting   \n",
              "14          14      debt_collection   \n",
              "15          15  mortgages_and_loans   \n",
              "16          16  mortgages_and_loans   \n",
              "17          17  mortgages_and_loans   \n",
              "18          18  mortgages_and_loans   \n",
              "19          19     credit_reporting   \n",
              "\n",
              "                                            narrative  \n",
              "0   purchase order day shipping amount receive pro...  \n",
              "1   forwarded message date tue subject please inve...  \n",
              "2   forwarded message cc sent friday pdt subject f...  \n",
              "3   payment history missing credit report speciali...  \n",
              "4   payment history missing credit report made mis...  \n",
              "5   payment history missing credit report made mis...  \n",
              "6   va date complaint experian credit bureau invol...  \n",
              "7   account reported abbreviated name full name se...  \n",
              "8   account reported abbreviated name full name se...  \n",
              "9   usdoexxxx account reported abbreviated name fu...  \n",
              "10  beginning mortgage held mb financial mb mortga...  \n",
              "11  called request new york state covid relief pla...  \n",
              "12  capital one secured credit account opened name...  \n",
              "13  collection account acct opened balance account...  \n",
              "14  collection agency system inc mn phone sent let...  \n",
              "15  current loan provident funding applied refinan...  \n",
              "16  current loan got deferment paid back credit hi...  \n",
              "17  closed mortgage dovenmuhle mortgage paid full ...  \n",
              "18  contacted bank america boa mortgage customer s...  \n",
              "19  xxxxxxxx credit card year disputed charge vend...  "
            ],
            "text/html": [
              "\n",
              "  <div id=\"df-60e6f818-4a4e-40c1-b628-a02a5766fc05\" class=\"colab-df-container\">\n",
              "    <div>\n",
              "<style scoped>\n",
              "    .dataframe tbody tr th:only-of-type {\n",
              "        vertical-align: middle;\n",
              "    }\n",
              "\n",
              "    .dataframe tbody tr th {\n",
              "        vertical-align: top;\n",
              "    }\n",
              "\n",
              "    .dataframe thead th {\n",
              "        text-align: right;\n",
              "    }\n",
              "</style>\n",
              "<table border=\"1\" class=\"dataframe\">\n",
              "  <thead>\n",
              "    <tr style=\"text-align: right;\">\n",
              "      <th></th>\n",
              "      <th>Unnamed: 0</th>\n",
              "      <th>product</th>\n",
              "      <th>narrative</th>\n",
              "    </tr>\n",
              "  </thead>\n",
              "  <tbody>\n",
              "    <tr>\n",
              "      <th>0</th>\n",
              "      <td>0</td>\n",
              "      <td>credit_card</td>\n",
              "      <td>purchase order day shipping amount receive pro...</td>\n",
              "    </tr>\n",
              "    <tr>\n",
              "      <th>1</th>\n",
              "      <td>1</td>\n",
              "      <td>credit_card</td>\n",
              "      <td>forwarded message date tue subject please inve...</td>\n",
              "    </tr>\n",
              "    <tr>\n",
              "      <th>2</th>\n",
              "      <td>2</td>\n",
              "      <td>retail_banking</td>\n",
              "      <td>forwarded message cc sent friday pdt subject f...</td>\n",
              "    </tr>\n",
              "    <tr>\n",
              "      <th>3</th>\n",
              "      <td>3</td>\n",
              "      <td>credit_reporting</td>\n",
              "      <td>payment history missing credit report speciali...</td>\n",
              "    </tr>\n",
              "    <tr>\n",
              "      <th>4</th>\n",
              "      <td>4</td>\n",
              "      <td>credit_reporting</td>\n",
              "      <td>payment history missing credit report made mis...</td>\n",
              "    </tr>\n",
              "    <tr>\n",
              "      <th>5</th>\n",
              "      <td>5</td>\n",
              "      <td>credit_reporting</td>\n",
              "      <td>payment history missing credit report made mis...</td>\n",
              "    </tr>\n",
              "    <tr>\n",
              "      <th>6</th>\n",
              "      <td>6</td>\n",
              "      <td>credit_reporting</td>\n",
              "      <td>va date complaint experian credit bureau invol...</td>\n",
              "    </tr>\n",
              "    <tr>\n",
              "      <th>7</th>\n",
              "      <td>7</td>\n",
              "      <td>credit_reporting</td>\n",
              "      <td>account reported abbreviated name full name se...</td>\n",
              "    </tr>\n",
              "    <tr>\n",
              "      <th>8</th>\n",
              "      <td>8</td>\n",
              "      <td>credit_reporting</td>\n",
              "      <td>account reported abbreviated name full name se...</td>\n",
              "    </tr>\n",
              "    <tr>\n",
              "      <th>9</th>\n",
              "      <td>9</td>\n",
              "      <td>credit_reporting</td>\n",
              "      <td>usdoexxxx account reported abbreviated name fu...</td>\n",
              "    </tr>\n",
              "    <tr>\n",
              "      <th>10</th>\n",
              "      <td>10</td>\n",
              "      <td>mortgages_and_loans</td>\n",
              "      <td>beginning mortgage held mb financial mb mortga...</td>\n",
              "    </tr>\n",
              "    <tr>\n",
              "      <th>11</th>\n",
              "      <td>11</td>\n",
              "      <td>credit_card</td>\n",
              "      <td>called request new york state covid relief pla...</td>\n",
              "    </tr>\n",
              "    <tr>\n",
              "      <th>12</th>\n",
              "      <td>12</td>\n",
              "      <td>credit_card</td>\n",
              "      <td>capital one secured credit account opened name...</td>\n",
              "    </tr>\n",
              "    <tr>\n",
              "      <th>13</th>\n",
              "      <td>13</td>\n",
              "      <td>credit_reporting</td>\n",
              "      <td>collection account acct opened balance account...</td>\n",
              "    </tr>\n",
              "    <tr>\n",
              "      <th>14</th>\n",
              "      <td>14</td>\n",
              "      <td>debt_collection</td>\n",
              "      <td>collection agency system inc mn phone sent let...</td>\n",
              "    </tr>\n",
              "    <tr>\n",
              "      <th>15</th>\n",
              "      <td>15</td>\n",
              "      <td>mortgages_and_loans</td>\n",
              "      <td>current loan provident funding applied refinan...</td>\n",
              "    </tr>\n",
              "    <tr>\n",
              "      <th>16</th>\n",
              "      <td>16</td>\n",
              "      <td>mortgages_and_loans</td>\n",
              "      <td>current loan got deferment paid back credit hi...</td>\n",
              "    </tr>\n",
              "    <tr>\n",
              "      <th>17</th>\n",
              "      <td>17</td>\n",
              "      <td>mortgages_and_loans</td>\n",
              "      <td>closed mortgage dovenmuhle mortgage paid full ...</td>\n",
              "    </tr>\n",
              "    <tr>\n",
              "      <th>18</th>\n",
              "      <td>18</td>\n",
              "      <td>mortgages_and_loans</td>\n",
              "      <td>contacted bank america boa mortgage customer s...</td>\n",
              "    </tr>\n",
              "    <tr>\n",
              "      <th>19</th>\n",
              "      <td>19</td>\n",
              "      <td>credit_reporting</td>\n",
              "      <td>xxxxxxxx credit card year disputed charge vend...</td>\n",
              "    </tr>\n",
              "  </tbody>\n",
              "</table>\n",
              "</div>\n",
              "    <div class=\"colab-df-buttons\">\n",
              "\n",
              "  <div class=\"colab-df-container\">\n",
              "    <button class=\"colab-df-convert\" onclick=\"convertToInteractive('df-60e6f818-4a4e-40c1-b628-a02a5766fc05')\"\n",
              "            title=\"Convert this dataframe to an interactive table.\"\n",
              "            style=\"display:none;\">\n",
              "\n",
              "  <svg xmlns=\"http://www.w3.org/2000/svg\" height=\"24px\" viewBox=\"0 -960 960 960\">\n",
              "    <path d=\"M120-120v-720h720v720H120Zm60-500h600v-160H180v160Zm220 220h160v-160H400v160Zm0 220h160v-160H400v160ZM180-400h160v-160H180v160Zm440 0h160v-160H620v160ZM180-180h160v-160H180v160Zm440 0h160v-160H620v160Z\"/>\n",
              "  </svg>\n",
              "    </button>\n",
              "\n",
              "  <style>\n",
              "    .colab-df-container {\n",
              "      display:flex;\n",
              "      gap: 12px;\n",
              "    }\n",
              "\n",
              "    .colab-df-convert {\n",
              "      background-color: #E8F0FE;\n",
              "      border: none;\n",
              "      border-radius: 50%;\n",
              "      cursor: pointer;\n",
              "      display: none;\n",
              "      fill: #1967D2;\n",
              "      height: 32px;\n",
              "      padding: 0 0 0 0;\n",
              "      width: 32px;\n",
              "    }\n",
              "\n",
              "    .colab-df-convert:hover {\n",
              "      background-color: #E2EBFA;\n",
              "      box-shadow: 0px 1px 2px rgba(60, 64, 67, 0.3), 0px 1px 3px 1px rgba(60, 64, 67, 0.15);\n",
              "      fill: #174EA6;\n",
              "    }\n",
              "\n",
              "    .colab-df-buttons div {\n",
              "      margin-bottom: 4px;\n",
              "    }\n",
              "\n",
              "    [theme=dark] .colab-df-convert {\n",
              "      background-color: #3B4455;\n",
              "      fill: #D2E3FC;\n",
              "    }\n",
              "\n",
              "    [theme=dark] .colab-df-convert:hover {\n",
              "      background-color: #434B5C;\n",
              "      box-shadow: 0px 1px 3px 1px rgba(0, 0, 0, 0.15);\n",
              "      filter: drop-shadow(0px 1px 2px rgba(0, 0, 0, 0.3));\n",
              "      fill: #FFFFFF;\n",
              "    }\n",
              "  </style>\n",
              "\n",
              "    <script>\n",
              "      const buttonEl =\n",
              "        document.querySelector('#df-60e6f818-4a4e-40c1-b628-a02a5766fc05 button.colab-df-convert');\n",
              "      buttonEl.style.display =\n",
              "        google.colab.kernel.accessAllowed ? 'block' : 'none';\n",
              "\n",
              "      async function convertToInteractive(key) {\n",
              "        const element = document.querySelector('#df-60e6f818-4a4e-40c1-b628-a02a5766fc05');\n",
              "        const dataTable =\n",
              "          await google.colab.kernel.invokeFunction('convertToInteractive',\n",
              "                                                    [key], {});\n",
              "        if (!dataTable) return;\n",
              "\n",
              "        const docLinkHtml = 'Like what you see? Visit the ' +\n",
              "          '<a target=\"_blank\" href=https://colab.research.google.com/notebooks/data_table.ipynb>data table notebook</a>'\n",
              "          + ' to learn more about interactive tables.';\n",
              "        element.innerHTML = '';\n",
              "        dataTable['output_type'] = 'display_data';\n",
              "        await google.colab.output.renderOutput(dataTable, element);\n",
              "        const docLink = document.createElement('div');\n",
              "        docLink.innerHTML = docLinkHtml;\n",
              "        element.appendChild(docLink);\n",
              "      }\n",
              "    </script>\n",
              "  </div>\n",
              "\n",
              "\n",
              "<div id=\"df-29199e09-000c-495a-8266-3f5eabc4f4a0\">\n",
              "  <button class=\"colab-df-quickchart\" onclick=\"quickchart('df-29199e09-000c-495a-8266-3f5eabc4f4a0')\"\n",
              "            title=\"Suggest charts\"\n",
              "            style=\"display:none;\">\n",
              "\n",
              "<svg xmlns=\"http://www.w3.org/2000/svg\" height=\"24px\"viewBox=\"0 0 24 24\"\n",
              "     width=\"24px\">\n",
              "    <g>\n",
              "        <path d=\"M19 3H5c-1.1 0-2 .9-2 2v14c0 1.1.9 2 2 2h14c1.1 0 2-.9 2-2V5c0-1.1-.9-2-2-2zM9 17H7v-7h2v7zm4 0h-2V7h2v10zm4 0h-2v-4h2v4z\"/>\n",
              "    </g>\n",
              "</svg>\n",
              "  </button>\n",
              "\n",
              "<style>\n",
              "  .colab-df-quickchart {\n",
              "      --bg-color: #E8F0FE;\n",
              "      --fill-color: #1967D2;\n",
              "      --hover-bg-color: #E2EBFA;\n",
              "      --hover-fill-color: #174EA6;\n",
              "      --disabled-fill-color: #AAA;\n",
              "      --disabled-bg-color: #DDD;\n",
              "  }\n",
              "\n",
              "  [theme=dark] .colab-df-quickchart {\n",
              "      --bg-color: #3B4455;\n",
              "      --fill-color: #D2E3FC;\n",
              "      --hover-bg-color: #434B5C;\n",
              "      --hover-fill-color: #FFFFFF;\n",
              "      --disabled-bg-color: #3B4455;\n",
              "      --disabled-fill-color: #666;\n",
              "  }\n",
              "\n",
              "  .colab-df-quickchart {\n",
              "    background-color: var(--bg-color);\n",
              "    border: none;\n",
              "    border-radius: 50%;\n",
              "    cursor: pointer;\n",
              "    display: none;\n",
              "    fill: var(--fill-color);\n",
              "    height: 32px;\n",
              "    padding: 0;\n",
              "    width: 32px;\n",
              "  }\n",
              "\n",
              "  .colab-df-quickchart:hover {\n",
              "    background-color: var(--hover-bg-color);\n",
              "    box-shadow: 0 1px 2px rgba(60, 64, 67, 0.3), 0 1px 3px 1px rgba(60, 64, 67, 0.15);\n",
              "    fill: var(--button-hover-fill-color);\n",
              "  }\n",
              "\n",
              "  .colab-df-quickchart-complete:disabled,\n",
              "  .colab-df-quickchart-complete:disabled:hover {\n",
              "    background-color: var(--disabled-bg-color);\n",
              "    fill: var(--disabled-fill-color);\n",
              "    box-shadow: none;\n",
              "  }\n",
              "\n",
              "  .colab-df-spinner {\n",
              "    border: 2px solid var(--fill-color);\n",
              "    border-color: transparent;\n",
              "    border-bottom-color: var(--fill-color);\n",
              "    animation:\n",
              "      spin 1s steps(1) infinite;\n",
              "  }\n",
              "\n",
              "  @keyframes spin {\n",
              "    0% {\n",
              "      border-color: transparent;\n",
              "      border-bottom-color: var(--fill-color);\n",
              "      border-left-color: var(--fill-color);\n",
              "    }\n",
              "    20% {\n",
              "      border-color: transparent;\n",
              "      border-left-color: var(--fill-color);\n",
              "      border-top-color: var(--fill-color);\n",
              "    }\n",
              "    30% {\n",
              "      border-color: transparent;\n",
              "      border-left-color: var(--fill-color);\n",
              "      border-top-color: var(--fill-color);\n",
              "      border-right-color: var(--fill-color);\n",
              "    }\n",
              "    40% {\n",
              "      border-color: transparent;\n",
              "      border-right-color: var(--fill-color);\n",
              "      border-top-color: var(--fill-color);\n",
              "    }\n",
              "    60% {\n",
              "      border-color: transparent;\n",
              "      border-right-color: var(--fill-color);\n",
              "    }\n",
              "    80% {\n",
              "      border-color: transparent;\n",
              "      border-right-color: var(--fill-color);\n",
              "      border-bottom-color: var(--fill-color);\n",
              "    }\n",
              "    90% {\n",
              "      border-color: transparent;\n",
              "      border-bottom-color: var(--fill-color);\n",
              "    }\n",
              "  }\n",
              "</style>\n",
              "\n",
              "  <script>\n",
              "    async function quickchart(key) {\n",
              "      const quickchartButtonEl =\n",
              "        document.querySelector('#' + key + ' button');\n",
              "      quickchartButtonEl.disabled = true;  // To prevent multiple clicks.\n",
              "      quickchartButtonEl.classList.add('colab-df-spinner');\n",
              "      try {\n",
              "        const charts = await google.colab.kernel.invokeFunction(\n",
              "            'suggestCharts', [key], {});\n",
              "      } catch (error) {\n",
              "        console.error('Error during call to suggestCharts:', error);\n",
              "      }\n",
              "      quickchartButtonEl.classList.remove('colab-df-spinner');\n",
              "      quickchartButtonEl.classList.add('colab-df-quickchart-complete');\n",
              "    }\n",
              "    (() => {\n",
              "      let quickchartButtonEl =\n",
              "        document.querySelector('#df-29199e09-000c-495a-8266-3f5eabc4f4a0 button');\n",
              "      quickchartButtonEl.style.display =\n",
              "        google.colab.kernel.accessAllowed ? 'block' : 'none';\n",
              "    })();\n",
              "  </script>\n",
              "</div>\n",
              "\n",
              "    </div>\n",
              "  </div>\n"
            ],
            "application/vnd.google.colaboratory.intrinsic+json": {
              "type": "dataframe",
              "variable_name": "df"
            }
          },
          "metadata": {},
          "execution_count": 5
        }
      ],
      "source": [
        "from google.colab import drive\n",
        "drive.mount('/content/gdrive')\n",
        "\n",
        "df = pd.read_csv('gdrive/My Drive/complaints_processed.csv')\n",
        "df.head(20)"
      ]
    },
    {
      "cell_type": "code",
      "execution_count": null,
      "metadata": {
        "execution": {
          "iopub.execute_input": "2024-04-21T10:17:33.951673Z",
          "iopub.status.busy": "2024-04-21T10:17:33.951397Z",
          "iopub.status.idle": "2024-04-21T10:17:33.968933Z",
          "shell.execute_reply": "2024-04-21T10:17:33.968094Z",
          "shell.execute_reply.started": "2024-04-21T10:17:33.951631Z"
        },
        "id": "mechanical-baseline",
        "outputId": "a4f577a9-9b44-4a14-f9da-1a1ed000564b",
        "colab": {
          "base_uri": "https://localhost:8080/",
          "height": 206
        }
      },
      "outputs": [
        {
          "output_type": "execute_result",
          "data": {
            "text/plain": [
              "            product                                              tweet\n",
              "0       credit_card  purchase order day shipping amount receive pro...\n",
              "1       credit_card  forwarded message date tue subject please inve...\n",
              "2    retail_banking  forwarded message cc sent friday pdt subject f...\n",
              "3  credit_reporting  payment history missing credit report speciali...\n",
              "4  credit_reporting  payment history missing credit report made mis..."
            ],
            "text/html": [
              "\n",
              "  <div id=\"df-87ed9d4e-eaa4-4744-bd61-6d466d82a3ae\" class=\"colab-df-container\">\n",
              "    <div>\n",
              "<style scoped>\n",
              "    .dataframe tbody tr th:only-of-type {\n",
              "        vertical-align: middle;\n",
              "    }\n",
              "\n",
              "    .dataframe tbody tr th {\n",
              "        vertical-align: top;\n",
              "    }\n",
              "\n",
              "    .dataframe thead th {\n",
              "        text-align: right;\n",
              "    }\n",
              "</style>\n",
              "<table border=\"1\" class=\"dataframe\">\n",
              "  <thead>\n",
              "    <tr style=\"text-align: right;\">\n",
              "      <th></th>\n",
              "      <th>product</th>\n",
              "      <th>tweet</th>\n",
              "    </tr>\n",
              "  </thead>\n",
              "  <tbody>\n",
              "    <tr>\n",
              "      <th>0</th>\n",
              "      <td>credit_card</td>\n",
              "      <td>purchase order day shipping amount receive pro...</td>\n",
              "    </tr>\n",
              "    <tr>\n",
              "      <th>1</th>\n",
              "      <td>credit_card</td>\n",
              "      <td>forwarded message date tue subject please inve...</td>\n",
              "    </tr>\n",
              "    <tr>\n",
              "      <th>2</th>\n",
              "      <td>retail_banking</td>\n",
              "      <td>forwarded message cc sent friday pdt subject f...</td>\n",
              "    </tr>\n",
              "    <tr>\n",
              "      <th>3</th>\n",
              "      <td>credit_reporting</td>\n",
              "      <td>payment history missing credit report speciali...</td>\n",
              "    </tr>\n",
              "    <tr>\n",
              "      <th>4</th>\n",
              "      <td>credit_reporting</td>\n",
              "      <td>payment history missing credit report made mis...</td>\n",
              "    </tr>\n",
              "  </tbody>\n",
              "</table>\n",
              "</div>\n",
              "    <div class=\"colab-df-buttons\">\n",
              "\n",
              "  <div class=\"colab-df-container\">\n",
              "    <button class=\"colab-df-convert\" onclick=\"convertToInteractive('df-87ed9d4e-eaa4-4744-bd61-6d466d82a3ae')\"\n",
              "            title=\"Convert this dataframe to an interactive table.\"\n",
              "            style=\"display:none;\">\n",
              "\n",
              "  <svg xmlns=\"http://www.w3.org/2000/svg\" height=\"24px\" viewBox=\"0 -960 960 960\">\n",
              "    <path d=\"M120-120v-720h720v720H120Zm60-500h600v-160H180v160Zm220 220h160v-160H400v160Zm0 220h160v-160H400v160ZM180-400h160v-160H180v160Zm440 0h160v-160H620v160ZM180-180h160v-160H180v160Zm440 0h160v-160H620v160Z\"/>\n",
              "  </svg>\n",
              "    </button>\n",
              "\n",
              "  <style>\n",
              "    .colab-df-container {\n",
              "      display:flex;\n",
              "      gap: 12px;\n",
              "    }\n",
              "\n",
              "    .colab-df-convert {\n",
              "      background-color: #E8F0FE;\n",
              "      border: none;\n",
              "      border-radius: 50%;\n",
              "      cursor: pointer;\n",
              "      display: none;\n",
              "      fill: #1967D2;\n",
              "      height: 32px;\n",
              "      padding: 0 0 0 0;\n",
              "      width: 32px;\n",
              "    }\n",
              "\n",
              "    .colab-df-convert:hover {\n",
              "      background-color: #E2EBFA;\n",
              "      box-shadow: 0px 1px 2px rgba(60, 64, 67, 0.3), 0px 1px 3px 1px rgba(60, 64, 67, 0.15);\n",
              "      fill: #174EA6;\n",
              "    }\n",
              "\n",
              "    .colab-df-buttons div {\n",
              "      margin-bottom: 4px;\n",
              "    }\n",
              "\n",
              "    [theme=dark] .colab-df-convert {\n",
              "      background-color: #3B4455;\n",
              "      fill: #D2E3FC;\n",
              "    }\n",
              "\n",
              "    [theme=dark] .colab-df-convert:hover {\n",
              "      background-color: #434B5C;\n",
              "      box-shadow: 0px 1px 3px 1px rgba(0, 0, 0, 0.15);\n",
              "      filter: drop-shadow(0px 1px 2px rgba(0, 0, 0, 0.3));\n",
              "      fill: #FFFFFF;\n",
              "    }\n",
              "  </style>\n",
              "\n",
              "    <script>\n",
              "      const buttonEl =\n",
              "        document.querySelector('#df-87ed9d4e-eaa4-4744-bd61-6d466d82a3ae button.colab-df-convert');\n",
              "      buttonEl.style.display =\n",
              "        google.colab.kernel.accessAllowed ? 'block' : 'none';\n",
              "\n",
              "      async function convertToInteractive(key) {\n",
              "        const element = document.querySelector('#df-87ed9d4e-eaa4-4744-bd61-6d466d82a3ae');\n",
              "        const dataTable =\n",
              "          await google.colab.kernel.invokeFunction('convertToInteractive',\n",
              "                                                    [key], {});\n",
              "        if (!dataTable) return;\n",
              "\n",
              "        const docLinkHtml = 'Like what you see? Visit the ' +\n",
              "          '<a target=\"_blank\" href=https://colab.research.google.com/notebooks/data_table.ipynb>data table notebook</a>'\n",
              "          + ' to learn more about interactive tables.';\n",
              "        element.innerHTML = '';\n",
              "        dataTable['output_type'] = 'display_data';\n",
              "        await google.colab.output.renderOutput(dataTable, element);\n",
              "        const docLink = document.createElement('div');\n",
              "        docLink.innerHTML = docLinkHtml;\n",
              "        element.appendChild(docLink);\n",
              "      }\n",
              "    </script>\n",
              "  </div>\n",
              "\n",
              "\n",
              "<div id=\"df-94d5e543-32d5-4f61-b91e-438c46b61d19\">\n",
              "  <button class=\"colab-df-quickchart\" onclick=\"quickchart('df-94d5e543-32d5-4f61-b91e-438c46b61d19')\"\n",
              "            title=\"Suggest charts\"\n",
              "            style=\"display:none;\">\n",
              "\n",
              "<svg xmlns=\"http://www.w3.org/2000/svg\" height=\"24px\"viewBox=\"0 0 24 24\"\n",
              "     width=\"24px\">\n",
              "    <g>\n",
              "        <path d=\"M19 3H5c-1.1 0-2 .9-2 2v14c0 1.1.9 2 2 2h14c1.1 0 2-.9 2-2V5c0-1.1-.9-2-2-2zM9 17H7v-7h2v7zm4 0h-2V7h2v10zm4 0h-2v-4h2v4z\"/>\n",
              "    </g>\n",
              "</svg>\n",
              "  </button>\n",
              "\n",
              "<style>\n",
              "  .colab-df-quickchart {\n",
              "      --bg-color: #E8F0FE;\n",
              "      --fill-color: #1967D2;\n",
              "      --hover-bg-color: #E2EBFA;\n",
              "      --hover-fill-color: #174EA6;\n",
              "      --disabled-fill-color: #AAA;\n",
              "      --disabled-bg-color: #DDD;\n",
              "  }\n",
              "\n",
              "  [theme=dark] .colab-df-quickchart {\n",
              "      --bg-color: #3B4455;\n",
              "      --fill-color: #D2E3FC;\n",
              "      --hover-bg-color: #434B5C;\n",
              "      --hover-fill-color: #FFFFFF;\n",
              "      --disabled-bg-color: #3B4455;\n",
              "      --disabled-fill-color: #666;\n",
              "  }\n",
              "\n",
              "  .colab-df-quickchart {\n",
              "    background-color: var(--bg-color);\n",
              "    border: none;\n",
              "    border-radius: 50%;\n",
              "    cursor: pointer;\n",
              "    display: none;\n",
              "    fill: var(--fill-color);\n",
              "    height: 32px;\n",
              "    padding: 0;\n",
              "    width: 32px;\n",
              "  }\n",
              "\n",
              "  .colab-df-quickchart:hover {\n",
              "    background-color: var(--hover-bg-color);\n",
              "    box-shadow: 0 1px 2px rgba(60, 64, 67, 0.3), 0 1px 3px 1px rgba(60, 64, 67, 0.15);\n",
              "    fill: var(--button-hover-fill-color);\n",
              "  }\n",
              "\n",
              "  .colab-df-quickchart-complete:disabled,\n",
              "  .colab-df-quickchart-complete:disabled:hover {\n",
              "    background-color: var(--disabled-bg-color);\n",
              "    fill: var(--disabled-fill-color);\n",
              "    box-shadow: none;\n",
              "  }\n",
              "\n",
              "  .colab-df-spinner {\n",
              "    border: 2px solid var(--fill-color);\n",
              "    border-color: transparent;\n",
              "    border-bottom-color: var(--fill-color);\n",
              "    animation:\n",
              "      spin 1s steps(1) infinite;\n",
              "  }\n",
              "\n",
              "  @keyframes spin {\n",
              "    0% {\n",
              "      border-color: transparent;\n",
              "      border-bottom-color: var(--fill-color);\n",
              "      border-left-color: var(--fill-color);\n",
              "    }\n",
              "    20% {\n",
              "      border-color: transparent;\n",
              "      border-left-color: var(--fill-color);\n",
              "      border-top-color: var(--fill-color);\n",
              "    }\n",
              "    30% {\n",
              "      border-color: transparent;\n",
              "      border-left-color: var(--fill-color);\n",
              "      border-top-color: var(--fill-color);\n",
              "      border-right-color: var(--fill-color);\n",
              "    }\n",
              "    40% {\n",
              "      border-color: transparent;\n",
              "      border-right-color: var(--fill-color);\n",
              "      border-top-color: var(--fill-color);\n",
              "    }\n",
              "    60% {\n",
              "      border-color: transparent;\n",
              "      border-right-color: var(--fill-color);\n",
              "    }\n",
              "    80% {\n",
              "      border-color: transparent;\n",
              "      border-right-color: var(--fill-color);\n",
              "      border-bottom-color: var(--fill-color);\n",
              "    }\n",
              "    90% {\n",
              "      border-color: transparent;\n",
              "      border-bottom-color: var(--fill-color);\n",
              "    }\n",
              "  }\n",
              "</style>\n",
              "\n",
              "  <script>\n",
              "    async function quickchart(key) {\n",
              "      const quickchartButtonEl =\n",
              "        document.querySelector('#' + key + ' button');\n",
              "      quickchartButtonEl.disabled = true;  // To prevent multiple clicks.\n",
              "      quickchartButtonEl.classList.add('colab-df-spinner');\n",
              "      try {\n",
              "        const charts = await google.colab.kernel.invokeFunction(\n",
              "            'suggestCharts', [key], {});\n",
              "      } catch (error) {\n",
              "        console.error('Error during call to suggestCharts:', error);\n",
              "      }\n",
              "      quickchartButtonEl.classList.remove('colab-df-spinner');\n",
              "      quickchartButtonEl.classList.add('colab-df-quickchart-complete');\n",
              "    }\n",
              "    (() => {\n",
              "      let quickchartButtonEl =\n",
              "        document.querySelector('#df-94d5e543-32d5-4f61-b91e-438c46b61d19 button');\n",
              "      quickchartButtonEl.style.display =\n",
              "        google.colab.kernel.accessAllowed ? 'block' : 'none';\n",
              "    })();\n",
              "  </script>\n",
              "</div>\n",
              "\n",
              "    </div>\n",
              "  </div>\n"
            ],
            "application/vnd.google.colaboratory.intrinsic+json": {
              "type": "dataframe",
              "variable_name": "df"
            }
          },
          "metadata": {},
          "execution_count": 6
        }
      ],
      "source": [
        "# Renaming columns\n",
        "df = df.rename(columns={'narrative':'tweet' })\n",
        "\n",
        "# Removing SNo column\n",
        "df.drop(['Unnamed: 0'], axis=1, inplace=True)\n",
        "df.head()"
      ]
    },
    {
      "cell_type": "code",
      "execution_count": null,
      "metadata": {
        "execution": {
          "iopub.execute_input": "2024-04-21T10:17:33.970387Z",
          "iopub.status.busy": "2024-04-21T10:17:33.970106Z",
          "iopub.status.idle": "2024-04-21T10:17:34.03141Z",
          "shell.execute_reply": "2024-04-21T10:17:34.030431Z",
          "shell.execute_reply.started": "2024-04-21T10:17:33.970358Z"
        },
        "id": "referenced-recipe",
        "outputId": "46114f0f-8271-4f73-ccc5-27a6994b6115",
        "colab": {
          "base_uri": "https://localhost:8080/"
        }
      },
      "outputs": [
        {
          "output_type": "stream",
          "name": "stdout",
          "text": [
            "* Size of dataframe: (162421, 2)\n",
            "\n",
            "* Datatype of columns are:\n",
            " product    object\n",
            "tweet      object\n",
            "dtype: object\n",
            "\n",
            "* Count of different product categories:\n",
            " product\n",
            "credit_reporting       91179\n",
            "debt_collection        23150\n",
            "mortgages_and_loans    18990\n",
            "credit_card            15566\n",
            "retail_banking         13536\n",
            "Name: count, dtype: int64\n",
            "\n",
            "* Number of NaNs among tweets are: 10\n",
            "\n"
          ]
        }
      ],
      "source": [
        "# Analysing dataframe attributes\n",
        "print('* Size of dataframe: {}\\n'.format(df.shape))\n",
        "print('* Datatype of columns are:\\n {}\\n'.format(df.dtypes))\n",
        "print('* Count of different product categories:\\n {}\\n'.format(df['product'].value_counts()))\n",
        "print('* Number of NaNs among tweets are: {}\\n'.format(df['tweet'].isnull().sum()))"
      ]
    },
    {
      "cell_type": "code",
      "execution_count": null,
      "metadata": {
        "execution": {
          "iopub.execute_input": "2024-04-21T10:17:34.03327Z",
          "iopub.status.busy": "2024-04-21T10:17:34.032832Z",
          "iopub.status.idle": "2024-04-21T10:17:34.101642Z",
          "shell.execute_reply": "2024-04-21T10:17:34.100635Z",
          "shell.execute_reply.started": "2024-04-21T10:17:34.033232Z"
        },
        "id": "acknowledged-madrid",
        "outputId": "d9157c0e-03a7-4de2-df84-65e888c57dcf",
        "colab": {
          "base_uri": "https://localhost:8080/"
        }
      },
      "outputs": [
        {
          "output_type": "stream",
          "name": "stdout",
          "text": [
            "NaNs are removed from the dataframe. Number of NaNs can be confirmed to be 0. The size of dataframe has reduced to (162411, 2)\n"
          ]
        }
      ],
      "source": [
        "# Removing NaNs\n",
        "df = df.dropna(subset=['tweet'])\n",
        "print('NaNs are removed from the dataframe. Number of NaNs can be confirmed to be {}. The size of dataframe has reduced to {}'.format(df['tweet'].isnull().sum(), df.shape))"
      ]
    },
    {
      "cell_type": "code",
      "execution_count": null,
      "metadata": {
        "execution": {
          "iopub.execute_input": "2024-04-21T10:17:34.103388Z",
          "iopub.status.busy": "2024-04-21T10:17:34.102969Z",
          "iopub.status.idle": "2024-04-21T10:17:34.423931Z",
          "shell.execute_reply": "2024-04-21T10:17:34.423057Z",
          "shell.execute_reply.started": "2024-04-21T10:17:34.103342Z"
        },
        "id": "numerous-consciousness",
        "outputId": "709864e7-410c-49b5-8696-f67f96ecd30d",
        "colab": {
          "base_uri": "https://localhost:8080/",
          "height": 447
        }
      },
      "outputs": [
        {
          "output_type": "execute_result",
          "data": {
            "text/plain": [
              "[<matplotlib.lines.Line2D at 0x7d377209ec20>]"
            ]
          },
          "metadata": {},
          "execution_count": 9
        },
        {
          "output_type": "display_data",
          "data": {
            "text/plain": [
              "<Figure size 640x480 with 1 Axes>"
            ],
            "image/png": "[encoded data removed]"
          },
          "metadata": {}
        }
      ],
      "source": [
        "# Plotting word lenghts of tweets\n",
        "word_length = [len(x) for x in df['tweet']]\n",
        "plt.plot(word_length)"
      ]
    },
    {
      "cell_type": "code",
      "execution_count": null,
      "metadata": {
        "execution": {
          "iopub.execute_input": "2024-04-21T10:17:34.42686Z",
          "iopub.status.busy": "2024-04-21T10:17:34.426587Z",
          "iopub.status.idle": "2024-04-21T10:17:34.445607Z",
          "shell.execute_reply": "2024-04-21T10:17:34.444807Z",
          "shell.execute_reply.started": "2024-04-21T10:17:34.426834Z"
        },
        "id": "anticipated-inclusion"
      },
      "outputs": [],
      "source": [
        "# Converting sentences to string\n",
        "df['tweet'] = df['tweet'].astype(str)"
      ]
    },
    {
      "cell_type": "code",
      "execution_count": null,
      "metadata": {
        "execution": {
          "iopub.execute_input": "2024-04-21T10:17:34.448219Z",
          "iopub.status.busy": "2024-04-21T10:17:34.447815Z",
          "iopub.status.idle": "2024-04-21T10:17:34.492176Z",
          "shell.execute_reply": "2024-04-21T10:17:34.491237Z",
          "shell.execute_reply.started": "2024-04-21T10:17:34.448173Z"
        },
        "id": "chinese-shape",
        "outputId": "49f968d4-d0bf-4650-cabd-21e52058101d",
        "scrolled": true,
        "colab": {
          "base_uri": "https://localhost:8080/"
        }
      },
      "outputs": [
        {
          "output_type": "execute_result",
          "data": {
            "text/plain": [
              "product\n",
              "credit_reporting       91172\n",
              "debt_collection        23148\n",
              "mortgages_and_loans    18990\n",
              "credit_card            15566\n",
              "retail_banking         13535\n",
              "Name: count, dtype: int64"
            ]
          },
          "metadata": {},
          "execution_count": 11
        }
      ],
      "source": [
        "# Types of products\n",
        "df['product'].value_counts()"
      ]
    },
    {
      "cell_type": "code",
      "execution_count": null,
      "metadata": {
        "execution": {
          "iopub.execute_input": "2024-04-21T10:17:34.493921Z",
          "iopub.status.busy": "2024-04-21T10:17:34.493502Z",
          "iopub.status.idle": "2024-04-21T10:17:34.692378Z",
          "shell.execute_reply": "2024-04-21T10:17:34.6915Z",
          "shell.execute_reply.started": "2024-04-21T10:17:34.493875Z"
        },
        "id": "exempt-humanitarian",
        "outputId": "3561b508-ef8b-4657-edcc-f617f3f1aa91",
        "scrolled": true,
        "colab": {
          "base_uri": "https://localhost:8080/",
          "height": 588
        }
      },
      "outputs": [
        {
          "output_type": "display_data",
          "data": {
            "text/plain": [
              "<Figure size 640x480 with 1 Axes>"
            ],
            "image/png": "[encoded data removed]"
          },
          "metadata": {}
        }
      ],
      "source": [
        "# Plotting product value counts\n",
        "df.groupby('product').count().plot(kind='bar')\n",
        "plt.show()"
      ]
    },
    {
      "cell_type": "markdown",
      "metadata": {
        "id": "YvMege9pVBmi"
      },
      "source": [
        "Dataframe is <b>imbalanced</b>. Improving the balance of the dataframe can improve <b>accuracy</b>."
      ]
    },
    {
      "cell_type": "markdown",
      "metadata": {
        "id": "I3tjVGjeQIwh"
      },
      "source": [
        "# 2. Splitting the dataset into train and test"
      ]
    },
    {
      "cell_type": "code",
      "execution_count": null,
      "metadata": {
        "execution": {
          "iopub.execute_input": "2024-04-21T10:17:34.693893Z",
          "iopub.status.busy": "2024-04-21T10:17:34.693601Z",
          "iopub.status.idle": "2024-04-21T10:17:34.720083Z",
          "shell.execute_reply": "2024-04-21T10:17:34.719236Z",
          "shell.execute_reply.started": "2024-04-21T10:17:34.693863Z"
        },
        "id": "0Npw26WoQerZ"
      },
      "outputs": [],
      "source": [
        "train_data, test_data = train_test_split(df, test_size = 0.20)"
      ]
    },
    {
      "cell_type": "code",
      "execution_count": null,
      "metadata": {
        "execution": {
          "iopub.execute_input": "2024-04-21T10:17:34.7214Z",
          "iopub.status.busy": "2024-04-21T10:17:34.721141Z",
          "iopub.status.idle": "2024-04-21T10:17:34.7267Z",
          "shell.execute_reply": "2024-04-21T10:17:34.725874Z",
          "shell.execute_reply.started": "2024-04-21T10:17:34.721375Z"
        },
        "id": "wmJ8UWWRRMiv",
        "outputId": "1e7c156b-fbd0-4182-d02a-4f8e92f3dc68",
        "colab": {
          "base_uri": "https://localhost:8080/"
        }
      },
      "outputs": [
        {
          "output_type": "execute_result",
          "data": {
            "text/plain": [
              "((129928, 2), (32483, 2))"
            ]
          },
          "metadata": {},
          "execution_count": 14
        }
      ],
      "source": [
        "# Train and test data dimensions\n",
        "train_data.shape, test_data.shape"
      ]
    },
    {
      "cell_type": "code",
      "execution_count": null,
      "metadata": {
        "execution": {
          "iopub.execute_input": "2024-04-21T10:17:34.728155Z",
          "iopub.status.busy": "2024-04-21T10:17:34.727818Z",
          "iopub.status.idle": "2024-04-21T10:17:34.932295Z",
          "shell.execute_reply": "2024-04-21T10:17:34.931439Z",
          "shell.execute_reply.started": "2024-04-21T10:17:34.728102Z"
        },
        "id": "UDjWZswx5uA7",
        "outputId": "2a1f7836-860b-49d9-c1b2-2ba6433ab1a6",
        "colab": {
          "base_uri": "https://localhost:8080/",
          "height": 588
        }
      },
      "outputs": [
        {
          "output_type": "display_data",
          "data": {
            "text/plain": [
              "<Figure size 640x480 with 1 Axes>"
            ],
            "image/png": "[encoded data removed]"
          },
          "metadata": {}
        }
      ],
      "source": [
        "# Balance of train data\n",
        "train_data.groupby('product').count().plot(kind='bar')\n",
        "plt.show()"
      ]
    },
    {
      "cell_type": "markdown",
      "metadata": {
        "id": "MXqXMRaFVBml"
      },
      "source": [
        "* credit_card, debt_collection, mortgages_and_loans, retail_banking columns consist of <b>very few values</b>. So, the values in these columns will be increased using <b>random oversampling</b>.\n",
        "* Oversampling is done in train set because this will prevent <b>data leakage</b> to test set.  "
      ]
    },
    {
      "cell_type": "markdown",
      "metadata": {
        "id": "VXakU3wY4yHP"
      },
      "source": [
        "# 3. Balancing the Data Using Random Oversampling"
      ]
    },
    {
      "cell_type": "code",
      "execution_count": null,
      "metadata": {
        "execution": {
          "iopub.execute_input": "2024-04-21T10:17:34.933631Z",
          "iopub.status.busy": "2024-04-21T10:17:34.933366Z",
          "iopub.status.idle": "2024-04-21T10:17:34.982289Z",
          "shell.execute_reply": "2024-04-21T10:17:34.981356Z",
          "shell.execute_reply.started": "2024-04-21T10:17:34.933604Z"
        },
        "id": "S0sFd29w920r",
        "outputId": "ae39f0f0-738e-4440-e823-3995c0a1677d",
        "colab": {
          "base_uri": "https://localhost:8080/",
          "height": 237
        }
      },
      "outputs": [
        {
          "output_type": "execute_result",
          "data": {
            "text/plain": [
              "                     tweet\n",
              "product                   \n",
              "credit_card          12392\n",
              "credit_reporting     72909\n",
              "debt_collection      18625\n",
              "mortgages_and_loans  15192\n",
              "retail_banking       10810"
            ],
            "text/html": [
              "\n",
              "  <div id=\"df-0ccee3e1-1dd7-4aba-88d1-eb7635e3b13e\" class=\"colab-df-container\">\n",
              "    <div>\n",
              "<style scoped>\n",
              "    .dataframe tbody tr th:only-of-type {\n",
              "        vertical-align: middle;\n",
              "    }\n",
              "\n",
              "    .dataframe tbody tr th {\n",
              "        vertical-align: top;\n",
              "    }\n",
              "\n",
              "    .dataframe thead th {\n",
              "        text-align: right;\n",
              "    }\n",
              "</style>\n",
              "<table border=\"1\" class=\"dataframe\">\n",
              "  <thead>\n",
              "    <tr style=\"text-align: right;\">\n",
              "      <th></th>\n",
              "      <th>tweet</th>\n",
              "    </tr>\n",
              "    <tr>\n",
              "      <th>product</th>\n",
              "      <th></th>\n",
              "    </tr>\n",
              "  </thead>\n",
              "  <tbody>\n",
              "    <tr>\n",
              "      <th>credit_card</th>\n",
              "      <td>12392</td>\n",
              "    </tr>\n",
              "    <tr>\n",
              "      <th>credit_reporting</th>\n",
              "      <td>72909</td>\n",
              "    </tr>\n",
              "    <tr>\n",
              "      <th>debt_collection</th>\n",
              "      <td>18625</td>\n",
              "    </tr>\n",
              "    <tr>\n",
              "      <th>mortgages_and_loans</th>\n",
              "      <td>15192</td>\n",
              "    </tr>\n",
              "    <tr>\n",
              "      <th>retail_banking</th>\n",
              "      <td>10810</td>\n",
              "    </tr>\n",
              "  </tbody>\n",
              "</table>\n",
              "</div>\n",
              "    <div class=\"colab-df-buttons\">\n",
              "\n",
              "  <div class=\"colab-df-container\">\n",
              "    <button class=\"colab-df-convert\" onclick=\"convertToInteractive('df-0ccee3e1-1dd7-4aba-88d1-eb7635e3b13e')\"\n",
              "            title=\"Convert this dataframe to an interactive table.\"\n",
              "            style=\"display:none;\">\n",
              "\n",
              "  <svg xmlns=\"http://www.w3.org/2000/svg\" height=\"24px\" viewBox=\"0 -960 960 960\">\n",
              "    <path d=\"M120-120v-720h720v720H120Zm60-500h600v-160H180v160Zm220 220h160v-160H400v160Zm0 220h160v-160H400v160ZM180-400h160v-160H180v160Zm440 0h160v-160H620v160ZM180-180h160v-160H180v160Zm440 0h160v-160H620v160Z\"/>\n",
              "  </svg>\n",
              "    </button>\n",
              "\n",
              "  <style>\n",
              "    .colab-df-container {\n",
              "      display:flex;\n",
              "      gap: 12px;\n",
              "    }\n",
              "\n",
              "    .colab-df-convert {\n",
              "      background-color: #E8F0FE;\n",
              "      border: none;\n",
              "      border-radius: 50%;\n",
              "      cursor: pointer;\n",
              "      display: none;\n",
              "      fill: #1967D2;\n",
              "      height: 32px;\n",
              "      padding: 0 0 0 0;\n",
              "      width: 32px;\n",
              "    }\n",
              "\n",
              "    .colab-df-convert:hover {\n",
              "      background-color: #E2EBFA;\n",
              "      box-shadow: 0px 1px 2px rgba(60, 64, 67, 0.3), 0px 1px 3px 1px rgba(60, 64, 67, 0.15);\n",
              "      fill: #174EA6;\n",
              "    }\n",
              "\n",
              "    .colab-df-buttons div {\n",
              "      margin-bottom: 4px;\n",
              "    }\n",
              "\n",
              "    [theme=dark] .colab-df-convert {\n",
              "      background-color: #3B4455;\n",
              "      fill: #D2E3FC;\n",
              "    }\n",
              "\n",
              "    [theme=dark] .colab-df-convert:hover {\n",
              "      background-color: #434B5C;\n",
              "      box-shadow: 0px 1px 3px 1px rgba(0, 0, 0, 0.15);\n",
              "      filter: drop-shadow(0px 1px 2px rgba(0, 0, 0, 0.3));\n",
              "      fill: #FFFFFF;\n",
              "    }\n",
              "  </style>\n",
              "\n",
              "    <script>\n",
              "      const buttonEl =\n",
              "        document.querySelector('#df-0ccee3e1-1dd7-4aba-88d1-eb7635e3b13e button.colab-df-convert');\n",
              "      buttonEl.style.display =\n",
              "        google.colab.kernel.accessAllowed ? 'block' : 'none';\n",
              "\n",
              "      async function convertToInteractive(key) {\n",
              "        const element = document.querySelector('#df-0ccee3e1-1dd7-4aba-88d1-eb7635e3b13e');\n",
              "        const dataTable =\n",
              "          await google.colab.kernel.invokeFunction('convertToInteractive',\n",
              "                                                    [key], {});\n",
              "        if (!dataTable) return;\n",
              "\n",
              "        const docLinkHtml = 'Like what you see? Visit the ' +\n",
              "          '<a target=\"_blank\" href=https://colab.research.google.com/notebooks/data_table.ipynb>data table notebook</a>'\n",
              "          + ' to learn more about interactive tables.';\n",
              "        element.innerHTML = '';\n",
              "        dataTable['output_type'] = 'display_data';\n",
              "        await google.colab.output.renderOutput(dataTable, element);\n",
              "        const docLink = document.createElement('div');\n",
              "        docLink.innerHTML = docLinkHtml;\n",
              "        element.appendChild(docLink);\n",
              "      }\n",
              "    </script>\n",
              "  </div>\n",
              "\n",
              "\n",
              "<div id=\"df-c645963f-43c1-4441-9f31-709a41fe2ad9\">\n",
              "  <button class=\"colab-df-quickchart\" onclick=\"quickchart('df-c645963f-43c1-4441-9f31-709a41fe2ad9')\"\n",
              "            title=\"Suggest charts\"\n",
              "            style=\"display:none;\">\n",
              "\n",
              "<svg xmlns=\"http://www.w3.org/2000/svg\" height=\"24px\"viewBox=\"0 0 24 24\"\n",
              "     width=\"24px\">\n",
              "    <g>\n",
              "        <path d=\"M19 3H5c-1.1 0-2 .9-2 2v14c0 1.1.9 2 2 2h14c1.1 0 2-.9 2-2V5c0-1.1-.9-2-2-2zM9 17H7v-7h2v7zm4 0h-2V7h2v10zm4 0h-2v-4h2v4z\"/>\n",
              "    </g>\n",
              "</svg>\n",
              "  </button>\n",
              "\n",
              "<style>\n",
              "  .colab-df-quickchart {\n",
              "      --bg-color: #E8F0FE;\n",
              "      --fill-color: #1967D2;\n",
              "      --hover-bg-color: #E2EBFA;\n",
              "      --hover-fill-color: #174EA6;\n",
              "      --disabled-fill-color: #AAA;\n",
              "      --disabled-bg-color: #DDD;\n",
              "  }\n",
              "\n",
              "  [theme=dark] .colab-df-quickchart {\n",
              "      --bg-color: #3B4455;\n",
              "      --fill-color: #D2E3FC;\n",
              "      --hover-bg-color: #434B5C;\n",
              "      --hover-fill-color: #FFFFFF;\n",
              "      --disabled-bg-color: #3B4455;\n",
              "      --disabled-fill-color: #666;\n",
              "  }\n",
              "\n",
              "  .colab-df-quickchart {\n",
              "    background-color: var(--bg-color);\n",
              "    border: none;\n",
              "    border-radius: 50%;\n",
              "    cursor: pointer;\n",
              "    display: none;\n",
              "    fill: var(--fill-color);\n",
              "    height: 32px;\n",
              "    padding: 0;\n",
              "    width: 32px;\n",
              "  }\n",
              "\n",
              "  .colab-df-quickchart:hover {\n",
              "    background-color: var(--hover-bg-color);\n",
              "    box-shadow: 0 1px 2px rgba(60, 64, 67, 0.3), 0 1px 3px 1px rgba(60, 64, 67, 0.15);\n",
              "    fill: var(--button-hover-fill-color);\n",
              "  }\n",
              "\n",
              "  .colab-df-quickchart-complete:disabled,\n",
              "  .colab-df-quickchart-complete:disabled:hover {\n",
              "    background-color: var(--disabled-bg-color);\n",
              "    fill: var(--disabled-fill-color);\n",
              "    box-shadow: none;\n",
              "  }\n",
              "\n",
              "  .colab-df-spinner {\n",
              "    border: 2px solid var(--fill-color);\n",
              "    border-color: transparent;\n",
              "    border-bottom-color: var(--fill-color);\n",
              "    animation:\n",
              "      spin 1s steps(1) infinite;\n",
              "  }\n",
              "\n",
              "  @keyframes spin {\n",
              "    0% {\n",
              "      border-color: transparent;\n",
              "      border-bottom-color: var(--fill-color);\n",
              "      border-left-color: var(--fill-color);\n",
              "    }\n",
              "    20% {\n",
              "      border-color: transparent;\n",
              "      border-left-color: var(--fill-color);\n",
              "      border-top-color: var(--fill-color);\n",
              "    }\n",
              "    30% {\n",
              "      border-color: transparent;\n",
              "      border-left-color: var(--fill-color);\n",
              "      border-top-color: var(--fill-color);\n",
              "      border-right-color: var(--fill-color);\n",
              "    }\n",
              "    40% {\n",
              "      border-color: transparent;\n",
              "      border-right-color: var(--fill-color);\n",
              "      border-top-color: var(--fill-color);\n",
              "    }\n",
              "    60% {\n",
              "      border-color: transparent;\n",
              "      border-right-color: var(--fill-color);\n",
              "    }\n",
              "    80% {\n",
              "      border-color: transparent;\n",
              "      border-right-color: var(--fill-color);\n",
              "      border-bottom-color: var(--fill-color);\n",
              "    }\n",
              "    90% {\n",
              "      border-color: transparent;\n",
              "      border-bottom-color: var(--fill-color);\n",
              "    }\n",
              "  }\n",
              "</style>\n",
              "\n",
              "  <script>\n",
              "    async function quickchart(key) {\n",
              "      const quickchartButtonEl =\n",
              "        document.querySelector('#' + key + ' button');\n",
              "      quickchartButtonEl.disabled = true;  // To prevent multiple clicks.\n",
              "      quickchartButtonEl.classList.add('colab-df-spinner');\n",
              "      try {\n",
              "        const charts = await google.colab.kernel.invokeFunction(\n",
              "            'suggestCharts', [key], {});\n",
              "      } catch (error) {\n",
              "        console.error('Error during call to suggestCharts:', error);\n",
              "      }\n",
              "      quickchartButtonEl.classList.remove('colab-df-spinner');\n",
              "      quickchartButtonEl.classList.add('colab-df-quickchart-complete');\n",
              "    }\n",
              "    (() => {\n",
              "      let quickchartButtonEl =\n",
              "        document.querySelector('#df-c645963f-43c1-4441-9f31-709a41fe2ad9 button');\n",
              "      quickchartButtonEl.style.display =\n",
              "        google.colab.kernel.accessAllowed ? 'block' : 'none';\n",
              "    })();\n",
              "  </script>\n",
              "</div>\n",
              "\n",
              "    </div>\n",
              "  </div>\n"
            ],
            "application/vnd.google.colaboratory.intrinsic+json": {
              "type": "dataframe",
              "summary": "{\n  \"name\": \"train_data\",\n  \"rows\": 5,\n  \"fields\": [\n    {\n      \"column\": \"product\",\n      \"properties\": {\n        \"dtype\": \"string\",\n        \"num_unique_values\": 5,\n        \"samples\": [\n          \"credit_reporting\",\n          \"retail_banking\",\n          \"debt_collection\"\n        ],\n        \"semantic_type\": \"\",\n        \"description\": \"\"\n      }\n    },\n    {\n      \"column\": \"tweet\",\n      \"properties\": {\n        \"dtype\": \"number\",\n        \"std\": 26398,\n        \"min\": 10810,\n        \"max\": 72909,\n        \"num_unique_values\": 5,\n        \"samples\": [\n          72909,\n          10810,\n          18625\n        ],\n        \"semantic_type\": \"\",\n        \"description\": \"\"\n      }\n    }\n  ]\n}"
            }
          },
          "metadata": {},
          "execution_count": 16
        }
      ],
      "source": [
        "# Train set value counts\n",
        "train_data.groupby('product').count()"
      ]
    },
    {
      "cell_type": "code",
      "execution_count": null,
      "metadata": {
        "execution": {
          "iopub.execute_input": "2024-04-21T10:17:34.983649Z",
          "iopub.status.busy": "2024-04-21T10:17:34.983376Z",
          "iopub.status.idle": "2024-04-21T10:17:35.072852Z",
          "shell.execute_reply": "2024-04-21T10:17:35.072049Z",
          "shell.execute_reply.started": "2024-04-21T10:17:34.983622Z"
        },
        "id": "eYnwUoct433o",
        "outputId": "5992855f-ec0f-46e6-ae24-a6cf4bcbe419",
        "colab": {
          "base_uri": "https://localhost:8080/"
        }
      },
      "outputs": [
        {
          "output_type": "execute_result",
          "data": {
            "text/plain": [
              "28000"
            ]
          },
          "metadata": {},
          "execution_count": 17
        }
      ],
      "source": [
        "# Randomly selecting 7000 indices in classes with low value count\n",
        "import numpy as np\n",
        "to_add_1 = np.random.choice(train_data[train_data['product']=='credit_card'].index,size = 7000,replace=False)\n",
        "to_add_2 = np.random.choice(train_data[train_data['product']=='debt_collection'].index,size = 7000,replace=False)\n",
        "to_add_3 = np.random.choice(train_data[train_data['product']=='mortgages_and_loans'].index,size = 7000,replace=False)\n",
        "to_add_4 = np.random.choice(train_data[train_data['product']=='retail_banking'].index,size=7000,replace=False)\n",
        "\n",
        "\n",
        "to_add = np.concatenate((to_add_1, to_add_2, to_add_3, to_add_4 ))\n",
        "len(to_add)"
      ]
    },
    {
      "cell_type": "code",
      "execution_count": null,
      "metadata": {
        "execution": {
          "iopub.execute_input": "2024-04-21T10:17:35.07427Z",
          "iopub.status.busy": "2024-04-21T10:17:35.073959Z",
          "iopub.status.idle": "2024-04-21T10:17:35.09194Z",
          "shell.execute_reply": "2024-04-21T10:17:35.091184Z",
          "shell.execute_reply.started": "2024-04-21T10:17:35.074242Z"
        },
        "id": "IK6dVVmD4315",
        "outputId": "8f7230f4-f903-4e28-cd95-89625b8ef33c",
        "colab": {
          "base_uri": "https://localhost:8080/",
          "height": 423
        }
      },
      "outputs": [
        {
          "output_type": "execute_result",
          "data": {
            "text/plain": [
              "                    product                                              tweet\n",
              "155860  mortgages_and_loans  informed approved forbearance period starting ...\n",
              "137841      debt_collection  debt collector answering question ask verify c...\n",
              "34071           credit_card  writing regard wal mart credit card account wa...\n",
              "93680           credit_card  lost income due coronavirus pandemic calling c...\n",
              "25337       debt_collection  copy email got ace express trying impersonate ...\n",
              "...                     ...                                                ...\n",
              "51399   mortgages_and_loans  contacting shellpoint assistance processing sh...\n",
              "159677      debt_collection  mail nothing term debt debt amount truck work ...\n",
              "31326   mortgages_and_loans  middle loan modification still reviewing appli...\n",
              "22563       debt_collection  good morning pandemic listen shocked reviewed ...\n",
              "7872    mortgages_and_loans  end mother became ill took task full time care...\n",
              "\n",
              "[28000 rows x 2 columns]"
            ],
            "text/html": [
              "\n",
              "  <div id=\"df-692844c7-d725-4832-a033-6ee32a02b5b2\" class=\"colab-df-container\">\n",
              "    <div>\n",
              "<style scoped>\n",
              "    .dataframe tbody tr th:only-of-type {\n",
              "        vertical-align: middle;\n",
              "    }\n",
              "\n",
              "    .dataframe tbody tr th {\n",
              "        vertical-align: top;\n",
              "    }\n",
              "\n",
              "    .dataframe thead th {\n",
              "        text-align: right;\n",
              "    }\n",
              "</style>\n",
              "<table border=\"1\" class=\"dataframe\">\n",
              "  <thead>\n",
              "    <tr style=\"text-align: right;\">\n",
              "      <th></th>\n",
              "      <th>product</th>\n",
              "      <th>tweet</th>\n",
              "    </tr>\n",
              "  </thead>\n",
              "  <tbody>\n",
              "    <tr>\n",
              "      <th>155860</th>\n",
              "      <td>mortgages_and_loans</td>\n",
              "      <td>informed approved forbearance period starting ...</td>\n",
              "    </tr>\n",
              "    <tr>\n",
              "      <th>137841</th>\n",
              "      <td>debt_collection</td>\n",
              "      <td>debt collector answering question ask verify c...</td>\n",
              "    </tr>\n",
              "    <tr>\n",
              "      <th>34071</th>\n",
              "      <td>credit_card</td>\n",
              "      <td>writing regard wal mart credit card account wa...</td>\n",
              "    </tr>\n",
              "    <tr>\n",
              "      <th>93680</th>\n",
              "      <td>credit_card</td>\n",
              "      <td>lost income due coronavirus pandemic calling c...</td>\n",
              "    </tr>\n",
              "    <tr>\n",
              "      <th>25337</th>\n",
              "      <td>debt_collection</td>\n",
              "      <td>copy email got ace express trying impersonate ...</td>\n",
              "    </tr>\n",
              "    <tr>\n",
              "      <th>...</th>\n",
              "      <td>...</td>\n",
              "      <td>...</td>\n",
              "    </tr>\n",
              "    <tr>\n",
              "      <th>51399</th>\n",
              "      <td>mortgages_and_loans</td>\n",
              "      <td>contacting shellpoint assistance processing sh...</td>\n",
              "    </tr>\n",
              "    <tr>\n",
              "      <th>159677</th>\n",
              "      <td>debt_collection</td>\n",
              "      <td>mail nothing term debt debt amount truck work ...</td>\n",
              "    </tr>\n",
              "    <tr>\n",
              "      <th>31326</th>\n",
              "      <td>mortgages_and_loans</td>\n",
              "      <td>middle loan modification still reviewing appli...</td>\n",
              "    </tr>\n",
              "    <tr>\n",
              "      <th>22563</th>\n",
              "      <td>debt_collection</td>\n",
              "      <td>good morning pandemic listen shocked reviewed ...</td>\n",
              "    </tr>\n",
              "    <tr>\n",
              "      <th>7872</th>\n",
              "      <td>mortgages_and_loans</td>\n",
              "      <td>end mother became ill took task full time care...</td>\n",
              "    </tr>\n",
              "  </tbody>\n",
              "</table>\n",
              "<p>28000 rows × 2 columns</p>\n",
              "</div>\n",
              "    <div class=\"colab-df-buttons\">\n",
              "\n",
              "  <div class=\"colab-df-container\">\n",
              "    <button class=\"colab-df-convert\" onclick=\"convertToInteractive('df-692844c7-d725-4832-a033-6ee32a02b5b2')\"\n",
              "            title=\"Convert this dataframe to an interactive table.\"\n",
              "            style=\"display:none;\">\n",
              "\n",
              "  <svg xmlns=\"http://www.w3.org/2000/svg\" height=\"24px\" viewBox=\"0 -960 960 960\">\n",
              "    <path d=\"M120-120v-720h720v720H120Zm60-500h600v-160H180v160Zm220 220h160v-160H400v160Zm0 220h160v-160H400v160ZM180-400h160v-160H180v160Zm440 0h160v-160H620v160ZM180-180h160v-160H180v160Zm440 0h160v-160H620v160Z\"/>\n",
              "  </svg>\n",
              "    </button>\n",
              "\n",
              "  <style>\n",
              "    .colab-df-container {\n",
              "      display:flex;\n",
              "      gap: 12px;\n",
              "    }\n",
              "\n",
              "    .colab-df-convert {\n",
              "      background-color: #E8F0FE;\n",
              "      border: none;\n",
              "      border-radius: 50%;\n",
              "      cursor: pointer;\n",
              "      display: none;\n",
              "      fill: #1967D2;\n",
              "      height: 32px;\n",
              "      padding: 0 0 0 0;\n",
              "      width: 32px;\n",
              "    }\n",
              "\n",
              "    .colab-df-convert:hover {\n",
              "      background-color: #E2EBFA;\n",
              "      box-shadow: 0px 1px 2px rgba(60, 64, 67, 0.3), 0px 1px 3px 1px rgba(60, 64, 67, 0.15);\n",
              "      fill: #174EA6;\n",
              "    }\n",
              "\n",
              "    .colab-df-buttons div {\n",
              "      margin-bottom: 4px;\n",
              "    }\n",
              "\n",
              "    [theme=dark] .colab-df-convert {\n",
              "      background-color: #3B4455;\n",
              "      fill: #D2E3FC;\n",
              "    }\n",
              "\n",
              "    [theme=dark] .colab-df-convert:hover {\n",
              "      background-color: #434B5C;\n",
              "      box-shadow: 0px 1px 3px 1px rgba(0, 0, 0, 0.15);\n",
              "      filter: drop-shadow(0px 1px 2px rgba(0, 0, 0, 0.3));\n",
              "      fill: #FFFFFF;\n",
              "    }\n",
              "  </style>\n",
              "\n",
              "    <script>\n",
              "      const buttonEl =\n",
              "        document.querySelector('#df-692844c7-d725-4832-a033-6ee32a02b5b2 button.colab-df-convert');\n",
              "      buttonEl.style.display =\n",
              "        google.colab.kernel.accessAllowed ? 'block' : 'none';\n",
              "\n",
              "      async function convertToInteractive(key) {\n",
              "        const element = document.querySelector('#df-692844c7-d725-4832-a033-6ee32a02b5b2');\n",
              "        const dataTable =\n",
              "          await google.colab.kernel.invokeFunction('convertToInteractive',\n",
              "                                                    [key], {});\n",
              "        if (!dataTable) return;\n",
              "\n",
              "        const docLinkHtml = 'Like what you see? Visit the ' +\n",
              "          '<a target=\"_blank\" href=https://colab.research.google.com/notebooks/data_table.ipynb>data table notebook</a>'\n",
              "          + ' to learn more about interactive tables.';\n",
              "        element.innerHTML = '';\n",
              "        dataTable['output_type'] = 'display_data';\n",
              "        await google.colab.output.renderOutput(dataTable, element);\n",
              "        const docLink = document.createElement('div');\n",
              "        docLink.innerHTML = docLinkHtml;\n",
              "        element.appendChild(docLink);\n",
              "      }\n",
              "    </script>\n",
              "  </div>\n",
              "\n",
              "\n",
              "<div id=\"df-62730228-19e0-43fa-a718-ceb5d7991f2c\">\n",
              "  <button class=\"colab-df-quickchart\" onclick=\"quickchart('df-62730228-19e0-43fa-a718-ceb5d7991f2c')\"\n",
              "            title=\"Suggest charts\"\n",
              "            style=\"display:none;\">\n",
              "\n",
              "<svg xmlns=\"http://www.w3.org/2000/svg\" height=\"24px\"viewBox=\"0 0 24 24\"\n",
              "     width=\"24px\">\n",
              "    <g>\n",
              "        <path d=\"M19 3H5c-1.1 0-2 .9-2 2v14c0 1.1.9 2 2 2h14c1.1 0 2-.9 2-2V5c0-1.1-.9-2-2-2zM9 17H7v-7h2v7zm4 0h-2V7h2v10zm4 0h-2v-4h2v4z\"/>\n",
              "    </g>\n",
              "</svg>\n",
              "  </button>\n",
              "\n",
              "<style>\n",
              "  .colab-df-quickchart {\n",
              "      --bg-color: #E8F0FE;\n",
              "      --fill-color: #1967D2;\n",
              "      --hover-bg-color: #E2EBFA;\n",
              "      --hover-fill-color: #174EA6;\n",
              "      --disabled-fill-color: #AAA;\n",
              "      --disabled-bg-color: #DDD;\n",
              "  }\n",
              "\n",
              "  [theme=dark] .colab-df-quickchart {\n",
              "      --bg-color: #3B4455;\n",
              "      --fill-color: #D2E3FC;\n",
              "      --hover-bg-color: #434B5C;\n",
              "      --hover-fill-color: #FFFFFF;\n",
              "      --disabled-bg-color: #3B4455;\n",
              "      --disabled-fill-color: #666;\n",
              "  }\n",
              "\n",
              "  .colab-df-quickchart {\n",
              "    background-color: var(--bg-color);\n",
              "    border: none;\n",
              "    border-radius: 50%;\n",
              "    cursor: pointer;\n",
              "    display: none;\n",
              "    fill: var(--fill-color);\n",
              "    height: 32px;\n",
              "    padding: 0;\n",
              "    width: 32px;\n",
              "  }\n",
              "\n",
              "  .colab-df-quickchart:hover {\n",
              "    background-color: var(--hover-bg-color);\n",
              "    box-shadow: 0 1px 2px rgba(60, 64, 67, 0.3), 0 1px 3px 1px rgba(60, 64, 67, 0.15);\n",
              "    fill: var(--button-hover-fill-color);\n",
              "  }\n",
              "\n",
              "  .colab-df-quickchart-complete:disabled,\n",
              "  .colab-df-quickchart-complete:disabled:hover {\n",
              "    background-color: var(--disabled-bg-color);\n",
              "    fill: var(--disabled-fill-color);\n",
              "    box-shadow: none;\n",
              "  }\n",
              "\n",
              "  .colab-df-spinner {\n",
              "    border: 2px solid var(--fill-color);\n",
              "    border-color: transparent;\n",
              "    border-bottom-color: var(--fill-color);\n",
              "    animation:\n",
              "      spin 1s steps(1) infinite;\n",
              "  }\n",
              "\n",
              "  @keyframes spin {\n",
              "    0% {\n",
              "      border-color: transparent;\n",
              "      border-bottom-color: var(--fill-color);\n",
              "      border-left-color: var(--fill-color);\n",
              "    }\n",
              "    20% {\n",
              "      border-color: transparent;\n",
              "      border-left-color: var(--fill-color);\n",
              "      border-top-color: var(--fill-color);\n",
              "    }\n",
              "    30% {\n",
              "      border-color: transparent;\n",
              "      border-left-color: var(--fill-color);\n",
              "      border-top-color: var(--fill-color);\n",
              "      border-right-color: var(--fill-color);\n",
              "    }\n",
              "    40% {\n",
              "      border-color: transparent;\n",
              "      border-right-color: var(--fill-color);\n",
              "      border-top-color: var(--fill-color);\n",
              "    }\n",
              "    60% {\n",
              "      border-color: transparent;\n",
              "      border-right-color: var(--fill-color);\n",
              "    }\n",
              "    80% {\n",
              "      border-color: transparent;\n",
              "      border-right-color: var(--fill-color);\n",
              "      border-bottom-color: var(--fill-color);\n",
              "    }\n",
              "    90% {\n",
              "      border-color: transparent;\n",
              "      border-bottom-color: var(--fill-color);\n",
              "    }\n",
              "  }\n",
              "</style>\n",
              "\n",
              "  <script>\n",
              "    async function quickchart(key) {\n",
              "      const quickchartButtonEl =\n",
              "        document.querySelector('#' + key + ' button');\n",
              "      quickchartButtonEl.disabled = true;  // To prevent multiple clicks.\n",
              "      quickchartButtonEl.classList.add('colab-df-spinner');\n",
              "      try {\n",
              "        const charts = await google.colab.kernel.invokeFunction(\n",
              "            'suggestCharts', [key], {});\n",
              "      } catch (error) {\n",
              "        console.error('Error during call to suggestCharts:', error);\n",
              "      }\n",
              "      quickchartButtonEl.classList.remove('colab-df-spinner');\n",
              "      quickchartButtonEl.classList.add('colab-df-quickchart-complete');\n",
              "    }\n",
              "    (() => {\n",
              "      let quickchartButtonEl =\n",
              "        document.querySelector('#df-62730228-19e0-43fa-a718-ceb5d7991f2c button');\n",
              "      quickchartButtonEl.style.display =\n",
              "        google.colab.kernel.accessAllowed ? 'block' : 'none';\n",
              "    })();\n",
              "  </script>\n",
              "</div>\n",
              "\n",
              "  <div id=\"id_db2af825-66c1-46f5-8972-880510e3af28\">\n",
              "    <style>\n",
              "      .colab-df-generate {\n",
              "        background-color: #E8F0FE;\n",
              "        border: none;\n",
              "        border-radius: 50%;\n",
              "        cursor: pointer;\n",
              "        display: none;\n",
              "        fill: #1967D2;\n",
              "        height: 32px;\n",
              "        padding: 0 0 0 0;\n",
              "        width: 32px;\n",
              "      }\n",
              "\n",
              "      .colab-df-generate:hover {\n",
              "        background-color: #E2EBFA;\n",
              "        box-shadow: 0px 1px 2px rgba(60, 64, 67, 0.3), 0px 1px 3px 1px rgba(60, 64, 67, 0.15);\n",
              "        fill: #174EA6;\n",
              "      }\n",
              "\n",
              "      [theme=dark] .colab-df-generate {\n",
              "        background-color: #3B4455;\n",
              "        fill: #D2E3FC;\n",
              "      }\n",
              "\n",
              "      [theme=dark] .colab-df-generate:hover {\n",
              "        background-color: #434B5C;\n",
              "        box-shadow: 0px 1px 3px 1px rgba(0, 0, 0, 0.15);\n",
              "        filter: drop-shadow(0px 1px 2px rgba(0, 0, 0, 0.3));\n",
              "        fill: #FFFFFF;\n",
              "      }\n",
              "    </style>\n",
              "    <button class=\"colab-df-generate\" onclick=\"generateWithVariable('df_replicate')\"\n",
              "            title=\"Generate code using this dataframe.\"\n",
              "            style=\"display:none;\">\n",
              "\n",
              "  <svg xmlns=\"http://www.w3.org/2000/svg\" height=\"24px\"viewBox=\"0 0 24 24\"\n",
              "       width=\"24px\">\n",
              "    <path d=\"M7,19H8.4L18.45,9,17,7.55,7,17.6ZM5,21V16.75L18.45,3.32a2,2,0,0,1,2.83,0l1.4,1.43a1.91,1.91,0,0,1,.58,1.4,1.91,1.91,0,0,1-.58,1.4L9.25,21ZM18.45,9,17,7.55Zm-12,3A5.31,5.31,0,0,0,4.9,8.1,5.31,5.31,0,0,0,1,6.5,5.31,5.31,0,0,0,4.9,4.9,5.31,5.31,0,0,0,6.5,1,5.31,5.31,0,0,0,8.1,4.9,5.31,5.31,0,0,0,12,6.5,5.46,5.46,0,0,0,6.5,12Z\"/>\n",
              "  </svg>\n",
              "    </button>\n",
              "    <script>\n",
              "      (() => {\n",
              "      const buttonEl =\n",
              "        document.querySelector('#id_db2af825-66c1-46f5-8972-880510e3af28 button.colab-df-generate');\n",
              "      buttonEl.style.display =\n",
              "        google.colab.kernel.accessAllowed ? 'block' : 'none';\n",
              "\n",
              "      buttonEl.onclick = () => {\n",
              "        google.colab.notebook.generateWithVariable('df_replicate');\n",
              "      }\n",
              "      })();\n",
              "    </script>\n",
              "  </div>\n",
              "\n",
              "    </div>\n",
              "  </div>\n"
            ],
            "application/vnd.google.colaboratory.intrinsic+json": {
              "type": "dataframe",
              "variable_name": "df_replicate",
              "summary": "{\n  \"name\": \"df_replicate\",\n  \"rows\": 28000,\n  \"fields\": [\n    {\n      \"column\": \"product\",\n      \"properties\": {\n        \"dtype\": \"category\",\n        \"num_unique_values\": 4,\n        \"samples\": [\n          \"debt_collection\",\n          \"retail_banking\",\n          \"mortgages_and_loans\"\n        ],\n        \"semantic_type\": \"\",\n        \"description\": \"\"\n      }\n    },\n    {\n      \"column\": \"tweet\",\n      \"properties\": {\n        \"dtype\": \"string\",\n        \"num_unique_values\": 27250,\n        \"samples\": [\n          \"mortgage company transferred mortage different lender loancare without notifying last payment never notified loan transferred different lender either thru email communication phone call portal communication used pay mortgage mail lived state time found transfered different lender old servicer provider notifies longer servicing mortgage caller time idea send payment idea send payment going mortgage provided phone number address end access new loan called new lender unable get anyone help loan reference social security system either new lender reported credit bureau day behind amount received contact information think provide loan ownership transfer notice mortgage sold new owner notify within day effective date transfer new owner name address telephone number different person resolve issue concerning loan payment right rescind loan date transfer whether transfer ownership recorded public record new lender also blame called could get personnel assist provide new loan info called new lender record loan explain everything stayed transfer loan went default new lender old lender new lender could help provide information timely manner going back forth got lawyer since reported creditor getting credit collection call frustrated miscommunication lack knowledge going file lawyer adviced died lieu short sale best option get rid property want deal stress said let give bank property back new lender refused died short sale multiple offer hiring realtor photographer trying sale house feel like collateral damage mortgage transfer process notified process loan payment would fallen behind creating snow ball effect huge snow ball affect affected personally next year foreclosure credit year remove foreclosure credit need removed bank tell selling mortgage care bank property took keep suffer negligence poor communication effort tried everything side even selling house lawyer info communication trail bank please help ca imagine going year credit report understand process transferring servicing right challenging logistically might involve moving thousand loan document think caused lack communication transperancy iam consumer collateral damage think provide loan ownership transfer notice mortgage sold new owner notify within day effective date transfer new owner name address telephone number different person resolve issue concerning loan payment right rescind loan date transfer whether transfer ownership recorded public record new lender also blame called could get personnel assist provide new loan info\",\n          \"credit report state payday loan debt aquired tennessee purchased listed derogatory even though derogatory account closed payment status six ago lived new york since far understand collection payday loan derogatory mark credit score result payday loan illegal state new york\",\n          \"issue making payment due reached well fargo assistance line credit told wouldnt help since received help beginning pandemic told go credit closed account would negative mark absolutely ridiculous well fargo refused help customer ongoing pandemic posting experience social medium im sure many others experiencing problem well fargo\"\n        ],\n        \"semantic_type\": \"\",\n        \"description\": \"\"\n      }\n    }\n  ]\n}"
            }
          },
          "metadata": {},
          "execution_count": 18
        }
      ],
      "source": [
        "# Forming a dataframe for randomly selected indices\n",
        "df_replicate = train_data[train_data.index.isin(to_add)]\n",
        "df_replicate"
      ]
    },
    {
      "cell_type": "code",
      "execution_count": null,
      "metadata": {
        "execution": {
          "iopub.execute_input": "2024-04-21T10:17:35.093535Z",
          "iopub.status.busy": "2024-04-21T10:17:35.093183Z",
          "iopub.status.idle": "2024-04-21T10:17:35.139658Z",
          "shell.execute_reply": "2024-04-21T10:17:35.138872Z",
          "shell.execute_reply.started": "2024-04-21T10:17:35.093498Z"
        },
        "id": "6qwLPU-_43zB",
        "outputId": "e7436b0d-066c-4446-ff25-d73511ecd7c4",
        "colab": {
          "base_uri": "https://localhost:8080/"
        }
      },
      "outputs": [
        {
          "output_type": "execute_result",
          "data": {
            "text/plain": [
              "product\n",
              "credit_reporting       72909\n",
              "debt_collection        25625\n",
              "mortgages_and_loans    22192\n",
              "credit_card            19392\n",
              "retail_banking         17810\n",
              "Name: count, dtype: int64"
            ]
          },
          "metadata": {},
          "execution_count": 19
        }
      ],
      "source": [
        "# Concatenating replicated df to orinigal df\n",
        "train_data = pd.concat([train_data, df_replicate])\n",
        "train_data['product'].value_counts()"
      ]
    },
    {
      "cell_type": "markdown",
      "metadata": {
        "id": "vaWM42U_wjOo"
      },
      "source": [
        "# 4. Text Preprocessing"
      ]
    },
    {
      "cell_type": "code",
      "execution_count": null,
      "metadata": {
        "execution": {
          "iopub.execute_input": "2024-04-21T10:17:35.141009Z",
          "iopub.status.busy": "2024-04-21T10:17:35.14074Z",
          "iopub.status.idle": "2024-04-21T10:17:35.14728Z",
          "shell.execute_reply": "2024-04-21T10:17:35.146404Z",
          "shell.execute_reply.started": "2024-04-21T10:17:35.14097Z"
        },
        "id": "lmcM_4nX3lT6"
      },
      "outputs": [],
      "source": [
        "def preprocess_text(main_df):\n",
        "  df_1 = main_df.copy()\n",
        "\n",
        "  # remove stopwords\n",
        "  nltk.download('stopwords')         # Downloading stopwords\n",
        "  stop = stopwords.words('english')\n",
        "  df_1['tweet'] = df_1['tweet'].apply(lambda x: \" \".join(x for x in x.split() if x not in stop))\n",
        "\n",
        "  # remove punctuations and convert to lower case\n",
        "  df_1['tweet'] = df_1['tweet'].apply(lambda x: re.sub('[!@#$:).;,?&]', '', x.lower()))\n",
        "\n",
        "  # remove double spaces\n",
        "  df_1['tweet'] = df_1['tweet'].apply(lambda x: re.sub(' ', ' ', x))\n",
        "\n",
        "  return df_1"
      ]
    },
    {
      "cell_type": "code",
      "execution_count": null,
      "metadata": {
        "execution": {
          "iopub.execute_input": "2024-04-21T10:17:35.149034Z",
          "iopub.status.busy": "2024-04-21T10:17:35.148582Z",
          "iopub.status.idle": "2024-04-21T10:18:23.538438Z",
          "shell.execute_reply": "2024-04-21T10:18:23.537411Z",
          "shell.execute_reply.started": "2024-04-21T10:17:35.148993Z"
        },
        "id": "STc3UUOL5ALt",
        "outputId": "414b51b3-4fdc-4835-b8c2-8e8f89c38bd8",
        "colab": {
          "base_uri": "https://localhost:8080/"
        }
      },
      "outputs": [
        {
          "output_type": "stream",
          "name": "stderr",
          "text": [
            "[nltk_data] Downloading package stopwords to /root/nltk_data...\n",
            "[nltk_data]   Unzipping corpora/stopwords.zip.\n",
            "[nltk_data] Downloading package stopwords to /root/nltk_data...\n",
            "[nltk_data]   Package stopwords is already up-to-date!\n"
          ]
        }
      ],
      "source": [
        "# Preprocessing training and test data\n",
        "train_data = preprocess_text(train_data)\n",
        "test_data = preprocess_text(test_data)"
      ]
    },
    {
      "cell_type": "code",
      "execution_count": null,
      "metadata": {
        "execution": {
          "iopub.execute_input": "2024-04-21T10:18:23.540161Z",
          "iopub.status.busy": "2024-04-21T10:18:23.539823Z",
          "iopub.status.idle": "2024-04-21T10:18:23.546846Z",
          "shell.execute_reply": "2024-04-21T10:18:23.546053Z",
          "shell.execute_reply.started": "2024-04-21T10:18:23.54013Z"
        },
        "id": "y3B_Lo6r4sCq",
        "outputId": "8f2d9300-c6ad-434c-80db-475dff6db4f5",
        "colab": {
          "base_uri": "https://localhost:8080/"
        }
      },
      "outputs": [
        {
          "output_type": "execute_result",
          "data": {
            "text/plain": [
              "140441    second time identity compromised dont understa...\n",
              "155860    informed approved forbearance period starting ...\n",
              "81377     process buying summer fun looking one liked sa...\n",
              "26286     hi name writing complain lack response reporti...\n",
              "17409     equifax reporting incorrectly day late partial...\n",
              "Name: tweet, dtype: object"
            ]
          },
          "metadata": {},
          "execution_count": 22
        }
      ],
      "source": [
        "# Verifying text preprocessing\n",
        "train_data['tweet'].head()"
      ]
    },
    {
      "cell_type": "markdown",
      "metadata": {
        "id": "latter-checkout"
      },
      "source": [
        "# 5. Label Encoding"
      ]
    },
    {
      "cell_type": "code",
      "execution_count": null,
      "metadata": {
        "execution": {
          "iopub.execute_input": "2024-04-21T10:18:23.548196Z",
          "iopub.status.busy": "2024-04-21T10:18:23.547909Z",
          "iopub.status.idle": "2024-04-21T10:18:23.559193Z",
          "shell.execute_reply": "2024-04-21T10:18:23.558327Z",
          "shell.execute_reply.started": "2024-04-21T10:18:23.548169Z"
        },
        "id": "B79R84lBEjq1"
      },
      "outputs": [],
      "source": [
        "# Declaring train labels\n",
        "train_labels = train_data['product']\n",
        "test_labels = test_data['product']"
      ]
    },
    {
      "cell_type": "code",
      "execution_count": null,
      "metadata": {
        "execution": {
          "iopub.execute_input": "2024-04-21T10:18:23.560586Z",
          "iopub.status.busy": "2024-04-21T10:18:23.560278Z",
          "iopub.status.idle": "2024-04-21T10:18:23.655086Z",
          "shell.execute_reply": "2024-04-21T10:18:23.654098Z",
          "shell.execute_reply.started": "2024-04-21T10:18:23.560559Z"
        },
        "id": "functioning-anniversary",
        "outputId": "4b7c1330-308f-4741-cfba-047f904fd251",
        "colab": {
          "base_uri": "https://localhost:8080/"
        }
      },
      "outputs": [
        {
          "output_type": "stream",
          "name": "stdout",
          "text": [
            "['credit_card' 'credit_reporting' 'debt_collection' 'mortgages_and_loans'\n",
            " 'retail_banking']\n",
            "(array([0, 1, 2, 3, 4]), array([19392, 72909, 25625, 22192, 17810]))\n",
            "(array([0, 1, 2, 3, 4]), array([ 3174, 18263,  4523,  3798,  2725]))\n"
          ]
        }
      ],
      "source": [
        "le = LabelEncoder()\n",
        "le.fit(train_labels)\n",
        "train_labels = le.transform(train_labels)\n",
        "test_labels = le.transform(test_labels)\n",
        "\n",
        "print(le.classes_)\n",
        "print(np.unique(train_labels, return_counts=True))\n",
        "print(np.unique(test_labels, return_counts=True))"
      ]
    },
    {
      "cell_type": "code",
      "execution_count": null,
      "metadata": {
        "execution": {
          "iopub.execute_input": "2024-04-21T10:18:23.656827Z",
          "iopub.status.busy": "2024-04-21T10:18:23.656429Z",
          "iopub.status.idle": "2024-04-21T10:18:23.664888Z",
          "shell.execute_reply": "2024-04-21T10:18:23.664063Z",
          "shell.execute_reply.started": "2024-04-21T10:18:23.656786Z"
        },
        "id": "aging-legislation"
      },
      "outputs": [],
      "source": [
        "train_labels = to_categorical(np.asarray(train_labels))\n",
        "test_labels = to_categorical(np.array(test_labels))"
      ]
    },
    {
      "cell_type": "markdown",
      "metadata": {
        "id": "QYsRdnbBJElq"
      },
      "source": [
        "# 6. Tokenization"
      ]
    },
    {
      "cell_type": "code",
      "execution_count": null,
      "metadata": {
        "execution": {
          "iopub.execute_input": "2024-04-21T10:18:23.666457Z",
          "iopub.status.busy": "2024-04-21T10:18:23.666193Z",
          "iopub.status.idle": "2024-04-21T10:18:47.137827Z",
          "shell.execute_reply": "2024-04-21T10:18:47.137028Z",
          "shell.execute_reply.started": "2024-04-21T10:18:23.666432Z"
        },
        "id": "xoWD8JOzJQ5f"
      },
      "outputs": [],
      "source": [
        "tokenizer = Tokenizer(num_words = max_words)  # Selects most frequent words\n",
        "tokenizer.fit_on_texts(train_data.tweet)      # Develops internal vocab based on training text\n",
        "train_sequences = tokenizer.texts_to_sequences(train_data.tweet)  # converts text to sequence\n",
        "\n",
        "test_sequences = tokenizer.texts_to_sequences(test_data.tweet)"
      ]
    },
    {
      "cell_type": "code",
      "execution_count": null,
      "metadata": {
        "execution": {
          "iopub.execute_input": "2024-04-21T10:18:47.139456Z",
          "iopub.status.busy": "2024-04-21T10:18:47.13908Z",
          "iopub.status.idle": "2024-04-21T10:18:50.540895Z",
          "shell.execute_reply": "2024-04-21T10:18:50.540021Z",
          "shell.execute_reply.started": "2024-04-21T10:18:47.139418Z"
        },
        "id": "djBvMk-BJQyg",
        "outputId": "fabe6140-a939-414b-998d-4f1cfb6431bd",
        "colab": {
          "base_uri": "https://localhost:8080/"
        }
      },
      "outputs": [
        {
          "output_type": "execute_result",
          "data": {
            "text/plain": [
              "((157928, 170), (32483, 170))"
            ]
          },
          "metadata": {},
          "execution_count": 27
        }
      ],
      "source": [
        "train_data = pad_sequences(train_sequences, maxlen = max_sequence_length)\n",
        "test_data = pad_sequences(test_sequences, maxlen = max_sequence_length)\n",
        "train_data.shape, test_data.shape"
      ]
    },
    {
      "cell_type": "markdown",
      "metadata": {
        "id": "honey-orbit"
      },
      "source": [
        "# 7. Bi-LSTM Model"
      ]
    },
    {
      "cell_type": "code",
      "execution_count": null,
      "metadata": {
        "execution": {
          "iopub.execute_input": "2024-04-21T10:18:50.544675Z",
          "iopub.status.busy": "2024-04-21T10:18:50.544414Z",
          "iopub.status.idle": "2024-04-21T10:18:51.692935Z",
          "shell.execute_reply": "2024-04-21T10:18:51.692193Z",
          "shell.execute_reply.started": "2024-04-21T10:18:50.544649Z"
        },
        "id": "regular-neighborhood",
        "outputId": "94251090-dc08-4e6d-e387-d23b166e19b8",
        "colab": {
          "base_uri": "https://localhost:8080/"
        }
      },
      "outputs": [
        {
          "output_type": "stream",
          "name": "stdout",
          "text": [
            "Model: \"sequential\"\n",
            "_________________________________________________________________\n",
            " Layer (type)                Output Shape              Param #   \n",
            "=================================================================\n",
            " embedding (Embedding)       (None, 170, 32)           80000     \n",
            "                                                                 \n",
            " bidirectional (Bidirection  (None, 170, 32)           6272      \n",
            " al)                                                             \n",
            "                                                                 \n",
            " global_max_pooling1d (Glob  (None, 32)                0         \n",
            " alMaxPooling1D)                                                 \n",
            "                                                                 \n",
            " dense (Dense)               (None, 5)                 165       \n",
            "                                                                 \n",
            "=================================================================\n",
            "Total params: 86437 (337.64 KB)\n",
            "Trainable params: 86437 (337.64 KB)\n",
            "Non-trainable params: 0 (0.00 Byte)\n",
            "_________________________________________________________________\n"
          ]
        }
      ],
      "source": [
        "# Model Training\n",
        "model = Sequential()\n",
        "model.add(Embedding(max_words,\n",
        "                   embedding_dim,\n",
        "                   input_length=max_sequence_length))\n",
        "\n",
        "# Bidirectional LSTM\n",
        "model.add(Bidirectional(LSTM(16, return_sequences=True, dropout=0.4, recurrent_dropout=0)))\n",
        "\n",
        "model.add(GlobalMaxPool1D())\n",
        "\n",
        "model.add(Dense(5,activation='softmax'))\n",
        "\n",
        "model.summary()"
      ]
    },
    {
      "cell_type": "markdown",
      "metadata": {
        "id": "NmsUYgIiVBmv"
      },
      "source": []
    },
    {
      "cell_type": "markdown",
      "metadata": {
        "id": "XzO3QaesUM13"
      },
      "source": [
        "## # 7.2 Passing the data through the network"
      ]
    },
    {
      "cell_type": "code",
      "execution_count": null,
      "metadata": {
        "execution": {
          "iopub.execute_input": "2024-04-21T10:18:51.695186Z",
          "iopub.status.busy": "2024-04-21T10:18:51.694788Z",
          "iopub.status.idle": "2024-04-21T10:18:51.710304Z",
          "shell.execute_reply": "2024-04-21T10:18:51.709489Z",
          "shell.execute_reply.started": "2024-04-21T10:18:51.695141Z"
        },
        "id": "listed-christianity"
      },
      "outputs": [],
      "source": [
        "model.compile(loss = 'binary_crossentropy', optimizer='RMSProp', metrics = ['accuracy'])"
      ]
    },
    {
      "cell_type": "code",
      "execution_count": null,
      "metadata": {
        "execution": {
          "iopub.execute_input": "2024-04-21T10:18:51.711719Z",
          "iopub.status.busy": "2024-04-21T10:18:51.711388Z",
          "iopub.status.idle": "2024-04-21T10:35:48.734262Z",
          "shell.execute_reply": "2024-04-21T10:35:48.73344Z",
          "shell.execute_reply.started": "2024-04-21T10:18:51.71169Z"
        },
        "id": "genuine-millennium",
        "outputId": "64e5e7ef-32db-4a85-bf3f-77d98824195c",
        "colab": {
          "base_uri": "https://localhost:8080/"
        }
      },
      "outputs": [
        {
          "output_type": "stream",
          "name": "stdout",
          "text": [
            "Epoch 1/20\n",
            "3291/3291 [==============================] - 404s 122ms/step - loss: 0.9311 - accuracy: 0.7405 - val_loss: 0.1622 - val_accuracy: 0.8491\n",
            "Epoch 2/20\n",
            "3291/3291 [==============================] - 394s 120ms/step - loss: 0.6033 - accuracy: 0.8492 - val_loss: 0.1477 - val_accuracy: 0.8618\n",
            "Epoch 3/20\n",
            "3291/3291 [==============================] - 394s 120ms/step - loss: 0.5672 - accuracy: 0.8568 - val_loss: 0.1385 - val_accuracy: 0.8720\n",
            "Epoch 4/20\n",
            "3291/3291 [==============================] - 401s 122ms/step - loss: 0.5483 - accuracy: 0.8617 - val_loss: 0.1369 - val_accuracy: 0.8726\n",
            "Epoch 5/20\n",
            "3291/3291 [==============================] - 396s 120ms/step - loss: 0.5359 - accuracy: 0.8644 - val_loss: 0.1347 - val_accuracy: 0.8734\n",
            "Epoch 6/20\n",
            "3291/3291 [==============================] - 399s 121ms/step - loss: 0.5267 - accuracy: 0.8665 - val_loss: 0.1332 - val_accuracy: 0.8750\n",
            "Epoch 7/20\n",
            "3291/3291 [==============================] - 399s 121ms/step - loss: 0.5212 - accuracy: 0.8674 - val_loss: 0.1322 - val_accuracy: 0.8758\n",
            "Epoch 8/20\n",
            "3291/3291 [==============================] - 400s 122ms/step - loss: 0.5143 - accuracy: 0.8696 - val_loss: 0.1321 - val_accuracy: 0.8764\n",
            "Epoch 9/20\n",
            "3291/3291 [==============================] - 399s 121ms/step - loss: 0.5113 - accuracy: 0.8697 - val_loss: 0.1353 - val_accuracy: 0.8737\n",
            "Epoch 10/20\n",
            "3291/3291 [==============================] - 395s 120ms/step - loss: 0.5060 - accuracy: 0.8716 - val_loss: 0.1342 - val_accuracy: 0.8766\n",
            "Epoch 11/20\n",
            "3291/3291 [==============================] - 400s 122ms/step - loss: 0.5024 - accuracy: 0.8720 - val_loss: 0.1309 - val_accuracy: 0.8775\n",
            "Epoch 12/20\n",
            "3291/3291 [==============================] - 397s 121ms/step - loss: 0.4988 - accuracy: 0.8734 - val_loss: 0.1303 - val_accuracy: 0.8784\n",
            "Epoch 13/20\n",
            "3291/3291 [==============================] - 393s 119ms/step - loss: 0.4962 - accuracy: 0.8739 - val_loss: 0.1308 - val_accuracy: 0.8795\n",
            "Epoch 14/20\n",
            "3291/3291 [==============================] - 399s 121ms/step - loss: 0.4935 - accuracy: 0.8744 - val_loss: 0.1286 - val_accuracy: 0.8797\n",
            "Epoch 15/20\n",
            "3291/3291 [==============================] - 399s 121ms/step - loss: 0.4902 - accuracy: 0.8752 - val_loss: 0.1324 - val_accuracy: 0.8775\n",
            "Epoch 16/20\n",
            "3291/3291 [==============================] - 399s 121ms/step - loss: 0.4881 - accuracy: 0.8754 - val_loss: 0.1326 - val_accuracy: 0.8795\n",
            "Epoch 17/20\n",
            "3291/3291 [==============================] - 422s 128ms/step - loss: 0.4871 - accuracy: 0.8760 - val_loss: 0.1322 - val_accuracy: 0.8779\n",
            "Epoch 18/20\n",
            "3291/3291 [==============================] - 413s 126ms/step - loss: 0.4839 - accuracy: 0.8766 - val_loss: 0.1315 - val_accuracy: 0.8808\n",
            "Epoch 19/20\n",
            "3291/3291 [==============================] - 402s 122ms/step - loss: 0.4829 - accuracy: 0.8774 - val_loss: 0.1315 - val_accuracy: 0.8810\n",
            "Epoch 20/20\n",
            "3291/3291 [==============================] - 404s 123ms/step - loss: 0.4812 - accuracy: 0.8781 - val_loss: 0.1299 - val_accuracy: 0.8808\n"
          ]
        }
      ],
      "source": [
        "# declaring weights of product categories\n",
        "class_weight = {0: 4,\n",
        "                1: 5,\n",
        "                2: 3,\n",
        "                3: 3,\n",
        "                4: 4}\n",
        "\n",
        "# training and validating model\n",
        "history = model.fit(train_data, train_labels, batch_size=48, epochs= 20, class_weight = class_weight, validation_data=(test_data, test_labels))"
      ]
    },
    {
      "cell_type": "code",
      "execution_count": null,
      "metadata": {
        "execution": {
          "iopub.execute_input": "2024-04-21T10:35:48.736135Z",
          "iopub.status.busy": "2024-04-21T10:35:48.735778Z",
          "iopub.status.idle": "2024-04-21T10:35:54.727087Z",
          "shell.execute_reply": "2024-04-21T10:35:54.726169Z",
          "shell.execute_reply.started": "2024-04-21T10:35:48.7361Z"
        },
        "id": "heard-mentor",
        "outputId": "84b94d63-cc34-4306-ab88-138692cdd361",
        "colab": {
          "base_uri": "https://localhost:8080/"
        }
      },
      "outputs": [
        {
          "output_type": "stream",
          "name": "stdout",
          "text": [
            "1016/1016 [==============================] - 25s 24ms/step\n"
          ]
        },
        {
          "output_type": "execute_result",
          "data": {
            "text/plain": [
              "array([[1.57570557e-05, 9.99877453e-01, 9.77843883e-05, 8.01594524e-06,\n",
              "        1.03953630e-06],\n",
              "       [9.98278737e-01, 5.07435689e-05, 2.83554291e-05, 6.45188411e-05,\n",
              "        1.57773052e-03],\n",
              "       [2.47417396e-04, 1.07007675e-01, 3.31529562e-04, 8.92400622e-01,\n",
              "        1.27767280e-05],\n",
              "       ...,\n",
              "       [2.83466798e-05, 9.99833107e-01, 2.40977915e-05, 1.04373394e-04,\n",
              "        9.99234817e-06],\n",
              "       [9.79283035e-01, 1.80642456e-02, 6.13201642e-04, 1.66959522e-04,\n",
              "        1.87248667e-03],\n",
              "       [2.35492853e-03, 9.88841593e-01, 7.74721103e-03, 9.10024857e-04,\n",
              "        1.46323000e-04]], dtype=float32)"
            ]
          },
          "metadata": {},
          "execution_count": 31
        }
      ],
      "source": [
        "# Prediction on Test Data\n",
        "predicted_bi_lstm = model.predict(test_data)\n",
        "predicted_bi_lstm"
      ]
    },
    {
      "cell_type": "markdown",
      "metadata": {
        "id": "C4qnYMNzVBm9"
      },
      "source": [
        "# 8. Bi LSTM Model Evaluation"
      ]
    },
    {
      "cell_type": "markdown",
      "metadata": {
        "id": "PuTTJaoNVBm-"
      },
      "source": [
        "## #8.1Model perfromance"
      ]
    },
    {
      "cell_type": "code",
      "execution_count": null,
      "metadata": {
        "execution": {
          "iopub.execute_input": "2024-04-21T10:35:54.728649Z",
          "iopub.status.busy": "2024-04-21T10:35:54.728355Z",
          "iopub.status.idle": "2024-04-21T10:35:54.844719Z",
          "shell.execute_reply": "2024-04-21T10:35:54.843783Z",
          "shell.execute_reply.started": "2024-04-21T10:35:54.728619Z"
        },
        "id": "mQMNF5ULVBm-",
        "outputId": "bf52df2b-67ed-4b7d-f3cd-2ee28998b683",
        "colab": {
          "base_uri": "https://localhost:8080/"
        }
      },
      "outputs": [
        {
          "output_type": "stream",
          "name": "stdout",
          "text": [
            "precision: [0.77858002 0.92771216 0.81839791 0.86786704 0.86336996]\n",
            "recall: [0.81537492 0.92898209 0.76122043 0.82490785 0.86495413]\n",
            "fscore: [0.79655279 0.92834669 0.78877434 0.84584233 0.86416132]\n",
            "support: [ 3174 18263  4523  3798  2725]\n",
            "################################\n",
            "              precision    recall  f1-score   support\n",
            "\n",
            "           0       0.78      0.82      0.80      3174\n",
            "           1       0.93      0.93      0.93     18263\n",
            "           2       0.82      0.76      0.79      4523\n",
            "           3       0.87      0.82      0.85      3798\n",
            "           4       0.86      0.86      0.86      2725\n",
            "\n",
            "   micro avg       0.89      0.88      0.88     32483\n",
            "   macro avg       0.85      0.84      0.84     32483\n",
            "weighted avg       0.89      0.88      0.88     32483\n",
            " samples avg       0.88      0.88      0.88     32483\n",
            "\n"
          ]
        }
      ],
      "source": [
        "precision, recall, fscore, support = score(test_labels, predicted_bi_lstm.round())\n",
        "print('precision: {}'.format(precision))\n",
        "print('recall: {}'.format(recall))\n",
        "print('fscore: {}'.format(fscore))\n",
        "print('support: {}'.format(support))\n",
        "print('################################')\n",
        "print(sklearn.metrics.classification_report(test_labels, predicted_bi_lstm.round()))"
      ]
    },
    {
      "cell_type": "markdown",
      "metadata": {
        "id": "LSTXEXJKVBm_"
      },
      "source": [
        "## #8.2 Model Performance with Epochs\n"
      ]
    },
    {
      "cell_type": "code",
      "execution_count": null,
      "metadata": {
        "execution": {
          "iopub.execute_input": "2024-04-21T10:35:54.846184Z",
          "iopub.status.busy": "2024-04-21T10:35:54.845864Z",
          "iopub.status.idle": "2024-04-21T10:35:55.257999Z",
          "shell.execute_reply": "2024-04-21T10:35:55.257067Z",
          "shell.execute_reply.started": "2024-04-21T10:35:54.846152Z"
        },
        "id": "FcDCB6y6VBnA",
        "outputId": "62f55674-a497-45a3-c604-af72f7031e96",
        "colab": {
          "base_uri": "https://localhost:8080/",
          "height": 519
        }
      },
      "outputs": [
        {
          "output_type": "display_data",
          "data": {
            "text/plain": [
              "<Figure size 1200x500 with 2 Axes>"
            ],
            "image/png": "[encoded data removed]"
          },
          "metadata": {}
        }
      ],
      "source": [
        "def accuracy_plot(history):\n",
        "\n",
        "    fig, ax = plt.subplots(1, 2, figsize=(12,5))\n",
        "\n",
        "    fig.suptitle('Model Performance with Epochs', fontsize = 16)\n",
        "    # Subplot 1\n",
        "    ax[0].plot(history.history['accuracy'])\n",
        "    ax[0].plot(history.history['val_accuracy'])\n",
        "    ax[0].set_title('Model Accuracy', fontsize = 14)\n",
        "    ax[0].set_xlabel('Epochs', fontsize = 12)\n",
        "    ax[0].set_ylabel('Accuracy', fontsize = 12)\n",
        "    ax[0].legend(['train', 'validation'], loc='best')\n",
        "\n",
        "    # Subplot 2\n",
        "    ax[1].plot(history.history['loss'])\n",
        "    ax[1].plot(history.history['val_loss'])\n",
        "    ax[1].set_title('Model Loss', fontsize = 14)\n",
        "    ax[1].set_xlabel('Epochs', fontsize = 12)\n",
        "    ax[1].set_ylabel('Loss', fontsize = 12)\n",
        "    ax[1].legend(['train', 'validation'], loc='best')\n",
        "\n",
        "\n",
        "accuracy_plot(history)"
      ]
    },
    {
      "cell_type": "markdown",
      "metadata": {
        "id": "pRUHeLFUVBnA"
      },
      "source": [
        "## #8.3 Confusion Matrix"
      ]
    },
    {
      "cell_type": "code",
      "execution_count": null,
      "metadata": {
        "execution": {
          "iopub.execute_input": "2024-04-21T10:35:55.259851Z",
          "iopub.status.busy": "2024-04-21T10:35:55.259473Z",
          "iopub.status.idle": "2024-04-21T10:36:01.067105Z",
          "shell.execute_reply": "2024-04-21T10:36:01.06624Z",
          "shell.execute_reply.started": "2024-04-21T10:35:55.259809Z"
        },
        "id": "unytZ7LzVBnB",
        "outputId": "42e81c85-12f3-412e-9a28-83b6dbc7a27b",
        "colab": {
          "base_uri": "https://localhost:8080/",
          "height": 806
        }
      },
      "outputs": [
        {
          "output_type": "stream",
          "name": "stdout",
          "text": [
            "1016/1016 [==============================] - 26s 26ms/step\n"
          ]
        },
        {
          "output_type": "display_data",
          "data": {
            "text/plain": [
              "<Figure size 1200x800 with 2 Axes>"
            ],
            "image/png": "[encoded data removed]"
          },
          "metadata": {}
        }
      ],
      "source": [
        "def plot_cm(model, test_data, test_labels):\n",
        "\n",
        "    products = ['Credit Card', 'Credit Reporting', 'Debt Collection', 'Mortgages \\nand Loans', 'Retail Banking']\n",
        "\n",
        "    # Calculate predictions\n",
        "    pred = model.predict(test_data)\n",
        "\n",
        "    # Declaring confusion matrix\n",
        "    cm = confusion_matrix(np.argmax(np.array(test_labels),axis=1), np.argmax(pred, axis=1))\n",
        "\n",
        "    # Heat map labels\n",
        "\n",
        "    group_counts = ['{0:0.0f}'.format(value) for value in cm.flatten()]\n",
        "    group_percentages = ['{0:.2%}'.format(value) for value in cm.flatten()/np.sum(cm)]\n",
        "\n",
        "    labels = [f\"{v2}\\n{v3}\" for v2, v3 in zip(group_counts, group_percentages)]\n",
        "    labels = np.asarray(labels).reshape(5,5)\n",
        "\n",
        "    # Plotting confusion matrix\n",
        "    plt.figure(figsize=(12,8))\n",
        "\n",
        "    sns.heatmap(cm, cmap=plt.cm.Blues, annot=labels, annot_kws={\"size\": 15}, fmt = '',\n",
        "                xticklabels = products,\n",
        "                yticklabels = products)\n",
        "\n",
        "    plt.xticks(fontsize = 12)\n",
        "    plt.yticks(fontsize = 12, rotation = 'horizontal')\n",
        "    plt.title('Confusion Matrix\\n', fontsize=19)\n",
        "    plt.xlabel('Predicted Labels', fontsize=17)\n",
        "    plt.ylabel('Actual Labels', fontsize=17)\n",
        "\n",
        "plot_cm(model, test_data, test_labels)"
      ]
    },
    {
      "cell_type": "markdown",
      "metadata": {
        "id": "FTgrxQTlVBnC"
      },
      "source": [
        "# 9. DistilBERT Model (From Hugging Face)"
      ]
    },
    {
      "cell_type": "code",
      "execution_count": null,
      "metadata": {
        "execution": {
          "iopub.execute_input": "2024-04-21T10:36:01.068816Z",
          "iopub.status.busy": "2024-04-21T10:36:01.068246Z",
          "iopub.status.idle": "2024-04-21T10:36:09.640027Z",
          "shell.execute_reply": "2024-04-21T10:36:09.638992Z",
          "shell.execute_reply.started": "2024-04-21T10:36:01.068784Z"
        },
        "id": "6mB1XnSsVBnC",
        "outputId": "4c14deab-8171-4eed-9748-a12e89059cec",
        "colab": {
          "base_uri": "https://localhost:8080/"
        }
      },
      "outputs": [
        {
          "output_type": "stream",
          "name": "stdout",
          "text": [
            "Requirement already satisfied: sentence-transformers in /usr/local/lib/python3.10/dist-packages (2.7.0)\n",
            "Requirement already satisfied: transformers<5.0.0,>=4.34.0 in /usr/local/lib/python3.10/dist-packages (from sentence-transformers) (4.38.2)\n",
            "Requirement already satisfied: tqdm in /usr/local/lib/python3.10/dist-packages (from sentence-transformers) (4.66.2)\n",
            "Requirement already satisfied: torch>=1.11.0 in /usr/local/lib/python3.10/dist-packages (from sentence-transformers) (2.2.1+cu121)\n",
            "Requirement already satisfied: numpy in /usr/local/lib/python3.10/dist-packages (from sentence-transformers) (1.25.2)\n",
            "Requirement already satisfied: scikit-learn in /usr/local/lib/python3.10/dist-packages (from sentence-transformers) (1.2.2)\n",
            "Requirement already satisfied: scipy in /usr/local/lib/python3.10/dist-packages (from sentence-transformers) (1.11.4)\n",
            "Requirement already satisfied: huggingface-hub>=0.15.1 in /usr/local/lib/python3.10/dist-packages (from sentence-transformers) (0.20.3)\n",
            "Requirement already satisfied: Pillow in /usr/local/lib/python3.10/dist-packages (from sentence-transformers) (9.4.0)\n",
            "Requirement already satisfied: filelock in /usr/local/lib/python3.10/dist-packages (from huggingface-hub>=0.15.1->sentence-transformers) (3.13.4)\n",
            "Requirement already satisfied: fsspec>=2023.5.0 in /usr/local/lib/python3.10/dist-packages (from huggingface-hub>=0.15.1->sentence-transformers) (2023.6.0)\n",
            "Requirement already satisfied: requests in /usr/local/lib/python3.10/dist-packages (from huggingface-hub>=0.15.1->sentence-transformers) (2.31.0)\n",
            "Requirement already satisfied: pyyaml>=5.1 in /usr/local/lib/python3.10/dist-packages (from huggingface-hub>=0.15.1->sentence-transformers) (6.0.1)\n",
            "Requirement already satisfied: typing-extensions>=3.7.4.3 in /usr/local/lib/python3.10/dist-packages (from huggingface-hub>=0.15.1->sentence-transformers) (4.11.0)\n",
            "Requirement already satisfied: packaging>=20.9 in /usr/local/lib/python3.10/dist-packages (from huggingface-hub>=0.15.1->sentence-transformers) (24.0)\n",
            "Requirement already satisfied: sympy in /usr/local/lib/python3.10/dist-packages (from torch>=1.11.0->sentence-transformers) (1.12)\n",
            "Requirement already satisfied: networkx in /usr/local/lib/python3.10/dist-packages (from torch>=1.11.0->sentence-transformers) (3.3)\n",
            "Requirement already satisfied: jinja2 in /usr/local/lib/python3.10/dist-packages (from torch>=1.11.0->sentence-transformers) (3.1.3)\n",
            "Requirement already satisfied: nvidia-cuda-nvrtc-cu12==12.1.105 in /usr/local/lib/python3.10/dist-packages (from torch>=1.11.0->sentence-transformers) (12.1.105)\n",
            "Requirement already satisfied: nvidia-cuda-runtime-cu12==12.1.105 in /usr/local/lib/python3.10/dist-packages (from torch>=1.11.0->sentence-transformers) (12.1.105)\n",
            "Requirement already satisfied: nvidia-cuda-cupti-cu12==12.1.105 in /usr/local/lib/python3.10/dist-packages (from torch>=1.11.0->sentence-transformers) (12.1.105)\n",
            "Requirement already satisfied: nvidia-cudnn-cu12==8.9.2.26 in /usr/local/lib/python3.10/dist-packages (from torch>=1.11.0->sentence-transformers) (8.9.2.26)\n",
            "Requirement already satisfied: nvidia-cublas-cu12==12.1.3.1 in /usr/local/lib/python3.10/dist-packages (from torch>=1.11.0->sentence-transformers) (12.1.3.1)\n",
            "Requirement already satisfied: nvidia-cufft-cu12==11.0.2.54 in /usr/local/lib/python3.10/dist-packages (from torch>=1.11.0->sentence-transformers) (11.0.2.54)\n",
            "Requirement already satisfied: nvidia-curand-cu12==10.3.2.106 in /usr/local/lib/python3.10/dist-packages (from torch>=1.11.0->sentence-transformers) (10.3.2.106)\n",
            "Requirement already satisfied: nvidia-cusolver-cu12==11.4.5.107 in /usr/local/lib/python3.10/dist-packages (from torch>=1.11.0->sentence-transformers) (11.4.5.107)\n",
            "Requirement already satisfied: nvidia-cusparse-cu12==12.1.0.106 in /usr/local/lib/python3.10/dist-packages (from torch>=1.11.0->sentence-transformers) (12.1.0.106)\n",
            "Requirement already satisfied: nvidia-nccl-cu12==2.19.3 in /usr/local/lib/python3.10/dist-packages (from torch>=1.11.0->sentence-transformers) (2.19.3)\n",
            "Requirement already satisfied: nvidia-nvtx-cu12==12.1.105 in /usr/local/lib/python3.10/dist-packages (from torch>=1.11.0->sentence-transformers) (12.1.105)\n",
            "Requirement already satisfied: triton==2.2.0 in /usr/local/lib/python3.10/dist-packages (from torch>=1.11.0->sentence-transformers) (2.2.0)\n",
            "Requirement already satisfied: nvidia-nvjitlink-cu12 in /usr/local/lib/python3.10/dist-packages (from nvidia-cusolver-cu12==11.4.5.107->torch>=1.11.0->sentence-transformers) (12.4.127)\n",
            "Requirement already satisfied: regex!=2019.12.17 in /usr/local/lib/python3.10/dist-packages (from transformers<5.0.0,>=4.34.0->sentence-transformers) (2023.12.25)\n",
            "Requirement already satisfied: tokenizers<0.19,>=0.14 in /usr/local/lib/python3.10/dist-packages (from transformers<5.0.0,>=4.34.0->sentence-transformers) (0.15.2)\n",
            "Requirement already satisfied: safetensors>=0.4.1 in /usr/local/lib/python3.10/dist-packages (from transformers<5.0.0,>=4.34.0->sentence-transformers) (0.4.3)\n",
            "Requirement already satisfied: joblib>=1.1.1 in /usr/local/lib/python3.10/dist-packages (from scikit-learn->sentence-transformers) (1.4.0)\n",
            "Requirement already satisfied: threadpoolctl>=2.0.0 in /usr/local/lib/python3.10/dist-packages (from scikit-learn->sentence-transformers) (3.4.0)\n",
            "Requirement already satisfied: MarkupSafe>=2.0 in /usr/local/lib/python3.10/dist-packages (from jinja2->torch>=1.11.0->sentence-transformers) (2.1.5)\n",
            "Requirement already satisfied: charset-normalizer<4,>=2 in /usr/local/lib/python3.10/dist-packages (from requests->huggingface-hub>=0.15.1->sentence-transformers) (3.3.2)\n",
            "Requirement already satisfied: idna<4,>=2.5 in /usr/local/lib/python3.10/dist-packages (from requests->huggingface-hub>=0.15.1->sentence-transformers) (3.7)\n",
            "Requirement already satisfied: urllib3<3,>=1.21.1 in /usr/local/lib/python3.10/dist-packages (from requests->huggingface-hub>=0.15.1->sentence-transformers) (2.0.7)\n",
            "Requirement already satisfied: certifi>=2017.4.17 in /usr/local/lib/python3.10/dist-packages (from requests->huggingface-hub>=0.15.1->sentence-transformers) (2024.2.2)\n",
            "Requirement already satisfied: mpmath>=0.19 in /usr/local/lib/python3.10/dist-packages (from sympy->torch>=1.11.0->sentence-transformers) (1.3.0)\n"
          ]
        }
      ],
      "source": [
        "!pip install -U sentence-transformers"
      ]
    },
    {
      "cell_type": "code",
      "execution_count": null,
      "metadata": {
        "execution": {
          "iopub.execute_input": "2024-04-21T10:36:09.641897Z",
          "iopub.status.busy": "2024-04-21T10:36:09.641528Z",
          "iopub.status.idle": "2024-04-21T10:36:09.667012Z",
          "shell.execute_reply": "2024-04-21T10:36:09.666147Z",
          "shell.execute_reply.started": "2024-04-21T10:36:09.64186Z"
        },
        "id": "kH5OGVzHVBnD"
      },
      "outputs": [],
      "source": [
        "df['label'] = df['product'].factorize()[0]"
      ]
    },
    {
      "cell_type": "code",
      "execution_count": null,
      "metadata": {
        "execution": {
          "iopub.execute_input": "2024-04-21T10:36:09.6686Z",
          "iopub.status.busy": "2024-04-21T10:36:09.668322Z",
          "iopub.status.idle": "2024-04-21T10:56:13.391918Z",
          "shell.execute_reply": "2024-04-21T10:56:13.390997Z",
          "shell.execute_reply.started": "2024-04-21T10:36:09.668572Z"
        },
        "id": "MTZcEnXAVBnE"
      },
      "outputs": [],
      "source": [
        "from sentence_transformers import SentenceTransformer\n",
        "model = SentenceTransformer('distilbert-base-nli-stsb-mean-tokens', device='cpu')\n",
        "\n",
        "sentences = list(df['tweet'])\n",
        "\n",
        "# Example of processing in batches:\n",
        "def batch_encode(model, sentences, batch_size=32):\n",
        "    sentence_embeddings = []\n",
        "    for i in range(0, samples, batch_size):\n",
        "        batch = sentences[i:i + batch_size]\n",
        "        embeddings = model.encode(batch)\n",
        "        sentence_embeddings.extend(embeddings)\n",
        "    return sentence_embeddings\n",
        "\n",
        "sentence_embeddings = batch_encode(model, sentences)"
      ]
    },
    {
      "cell_type": "code",
      "execution_count": null,
      "metadata": {
        "execution": {
          "iopub.execute_input": "2024-04-21T10:56:13.393891Z",
          "iopub.status.busy": "2024-04-21T10:56:13.393514Z",
          "iopub.status.idle": "2024-04-21T10:56:13.502527Z",
          "shell.execute_reply": "2024-04-21T10:56:13.501428Z",
          "shell.execute_reply.started": "2024-04-21T10:56:13.393849Z"
        },
        "id": "f-xfgnMaVBnF",
        "outputId": "018db49f-4296-4b88-8093-adb543a4bcd1",
        "colab": {
          "base_uri": "https://localhost:8080/"
        }
      },
      "outputs": [
        {
          "output_type": "stream",
          "name": "stdout",
          "text": [
            "(20000, 768)\n",
            "<class 'numpy.ndarray'>\n"
          ]
        }
      ],
      "source": [
        "sentence_embeddings_array = np.vstack(sentence_embeddings)\n",
        "sentence_embeddings = sentence_embeddings_array\n",
        "sentence_embeddings.shape\n",
        "print(sentence_embeddings.shape)\n",
        "print(type(sentence_embeddings[0]))"
      ]
    },
    {
      "cell_type": "code",
      "execution_count": null,
      "metadata": {
        "execution": {
          "iopub.execute_input": "2024-04-21T10:56:13.504337Z",
          "iopub.status.busy": "2024-04-21T10:56:13.503918Z",
          "iopub.status.idle": "2024-04-21T10:56:13.508811Z",
          "shell.execute_reply": "2024-04-21T10:56:13.507872Z",
          "shell.execute_reply.started": "2024-04-21T10:56:13.504297Z"
        },
        "id": "_W3J5_fzVBnG"
      },
      "outputs": [],
      "source": [
        "sentence_embeddings_df = pd.DataFrame(sentence_embeddings)"
      ]
    },
    {
      "cell_type": "code",
      "execution_count": null,
      "metadata": {
        "execution": {
          "iopub.execute_input": "2024-04-21T10:56:13.510593Z",
          "iopub.status.busy": "2024-04-21T10:56:13.510233Z",
          "iopub.status.idle": "2024-04-21T10:56:13.520803Z",
          "shell.execute_reply": "2024-04-21T10:56:13.519905Z",
          "shell.execute_reply.started": "2024-04-21T10:56:13.510555Z"
        },
        "id": "OUdTHsXKVBnH",
        "outputId": "fac92bf8-d0b5-4c94-9c83-5ca4463d1150",
        "colab": {
          "base_uri": "https://localhost:8080/"
        }
      },
      "outputs": [
        {
          "output_type": "stream",
          "name": "stdout",
          "text": [
            "(20000, 3)\n"
          ]
        }
      ],
      "source": [
        "df_subset = df.iloc[:20000]\n",
        "print(df_subset.shape)"
      ]
    },
    {
      "cell_type": "code",
      "execution_count": null,
      "metadata": {
        "execution": {
          "iopub.execute_input": "2024-04-21T11:00:16.047489Z",
          "iopub.status.busy": "2024-04-21T11:00:16.047072Z",
          "iopub.status.idle": "2024-04-21T11:00:16.069919Z",
          "shell.execute_reply": "2024-04-21T11:00:16.06919Z",
          "shell.execute_reply.started": "2024-04-21T11:00:16.047453Z"
        },
        "id": "zbLjblcnVBnI"
      },
      "outputs": [],
      "source": [
        "X_train, X_test, y_train, y_test = train_test_split(sentence_embeddings_df, df_subset[['label']], test_size=0.2, random_state=123)"
      ]
    },
    {
      "cell_type": "code",
      "execution_count": null,
      "metadata": {
        "execution": {
          "iopub.execute_input": "2024-04-21T11:00:19.856314Z",
          "iopub.status.busy": "2024-04-21T11:00:19.855922Z",
          "iopub.status.idle": "2024-04-21T11:00:19.861915Z",
          "shell.execute_reply": "2024-04-21T11:00:19.860854Z",
          "shell.execute_reply.started": "2024-04-21T11:00:19.856281Z"
        },
        "id": "W0fxpTZ3VBnK",
        "outputId": "1eec848a-737f-4249-beb0-acf5764b3afd",
        "colab": {
          "base_uri": "https://localhost:8080/"
        }
      },
      "outputs": [
        {
          "output_type": "stream",
          "name": "stdout",
          "text": [
            "(16000, 768) (4000, 768)\n",
            "(16000, 1) (4000, 1)\n"
          ]
        }
      ],
      "source": [
        "print(X_train.shape, X_test.shape)\n",
        "print(y_train.shape, y_test.shape)"
      ]
    },
    {
      "cell_type": "code",
      "execution_count": null,
      "metadata": {
        "execution": {
          "iopub.execute_input": "2024-04-21T11:00:24.222923Z",
          "iopub.status.busy": "2024-04-21T11:00:24.222551Z",
          "iopub.status.idle": "2024-04-21T11:02:09.360777Z",
          "shell.execute_reply": "2024-04-21T11:02:09.359798Z",
          "shell.execute_reply.started": "2024-04-21T11:00:24.222887Z"
        },
        "id": "c7JOYYBMVBnM",
        "outputId": "e977ec83-77d4-41a1-b62a-67ad39067f35",
        "colab": {
          "base_uri": "https://localhost:8080/"
        }
      },
      "outputs": [
        {
          "output_type": "stream",
          "name": "stdout",
          "text": [
            "Accuracy: 79.00%\n",
            "              precision    recall  f1-score   support\n",
            "\n",
            "           0       0.63      0.64      0.63       439\n",
            "           1       0.65      0.66      0.66       269\n",
            "           2       0.87      0.89      0.88      2236\n",
            "           3       0.73      0.73      0.73       422\n",
            "           4       0.72      0.65      0.68       634\n",
            "\n",
            "    accuracy                           0.79      4000\n",
            "   macro avg       0.72      0.71      0.72      4000\n",
            "weighted avg       0.79      0.79      0.79      4000\n",
            "\n"
          ]
        }
      ],
      "source": [
        "from sklearn.linear_model import LogisticRegression\n",
        "from sklearn.pipeline import Pipeline\n",
        "from sklearn.metrics import accuracy_score, classification_report\n",
        "\n",
        "# Create a Logistic Regression pipeline\n",
        "logreg = Pipeline([\n",
        "    ('clf', LogisticRegression(n_jobs=1, C=1e5, max_iter=10000)),\n",
        "])\n",
        "\n",
        "# Fit the model on the training data\n",
        "logreg.fit(X_train, y_train.values.ravel())\n",
        "# Predict the test dataset\n",
        "y_pred = logreg.predict(X_test)\n",
        "\n",
        "print(f'Accuracy: {accuracy_score(y_test, y_pred) * 100:.2f}%')\n",
        "print(classification_report(y_test, y_pred))\n"
      ]
    },
    {
      "cell_type": "markdown",
      "metadata": {
        "id": "bS_7SR2vVBnN"
      },
      "source": [
        "##"
      ]
    }
  ],
  "metadata": {
    "colab": {
      "provenance": []
    },
    "kaggle": {
      "accelerator": "gpu",
      "dataSources": [
        {
          "datasetId": 1363681,
          "sourceId": 2265312,
          "sourceType": "datasetVersion"
        }
      ],
      "dockerImageVersionId": 30121,
      "isGpuEnabled": true,
      "isInternetEnabled": true,
      "language": "python",
      "sourceType": "notebook"
    },
    "kernelspec": {
      "display_name": "Python 3 (ipykernel)",
      "language": "python",
      "name": "python3"
    },
    "language_info": {
      "codemirror_mode": {
        "name": "ipython",
        "version": 3
      },
      "file_extension": ".py",
      "mimetype": "text/x-python",
      "name": "python",
      "nbconvert_exporter": "python",
      "pygments_lexer": "ipython3",
      "version": "3.9.13"
    }
  },
  "nbformat": 4,
  "nbformat_minor": 0
}